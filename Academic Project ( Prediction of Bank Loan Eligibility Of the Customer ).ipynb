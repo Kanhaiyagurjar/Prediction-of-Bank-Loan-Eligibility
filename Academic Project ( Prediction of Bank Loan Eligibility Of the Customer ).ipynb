{
 "cells": [
  {
   "cell_type": "markdown",
   "id": "f5f5848f",
   "metadata": {},
   "source": [
    "#  In this Notebook we are going a built a Machine Learning Model.\n",
    "\n",
    "# This Model will help in pwhiteicting the Loan Eligibility of the Customer.\n",
    "\n",
    "### Loan Pwhiteiction system -"
   ]
  },
  {
   "cell_type": "code",
   "execution_count": 5,
   "id": "36582d74",
   "metadata": {},
   "outputs": [],
   "source": [
    "import numpy as np\n",
    "import pandas as pd\n",
    "import matplotlib.pyplot as plt\n",
    "import seaborn as sns\n",
    "\n",
    "import warnings\n",
    "warnings.simplefilter('ignore')"
   ]
  },
  {
   "cell_type": "code",
   "execution_count": 6,
   "id": "9802ab34",
   "metadata": {},
   "outputs": [
    {
     "data": {
      "text/html": [
       "<div>\n",
       "<style scoped>\n",
       "    .dataframe tbody tr th:only-of-type {\n",
       "        vertical-align: middle;\n",
       "    }\n",
       "\n",
       "    .dataframe tbody tr th {\n",
       "        vertical-align: top;\n",
       "    }\n",
       "\n",
       "    .dataframe thead th {\n",
       "        text-align: right;\n",
       "    }\n",
       "</style>\n",
       "<table border=\"1\" class=\"dataframe\">\n",
       "  <thead>\n",
       "    <tr style=\"text-align: right;\">\n",
       "      <th></th>\n",
       "      <th>Loan ID</th>\n",
       "      <th>Customer ID</th>\n",
       "      <th>Loan Status</th>\n",
       "      <th>Current Loan Amount</th>\n",
       "      <th>Term</th>\n",
       "      <th>Cwhiteit Score</th>\n",
       "      <th>Annual Income</th>\n",
       "      <th>Years in current job</th>\n",
       "      <th>Home Ownership</th>\n",
       "      <th>Purpose</th>\n",
       "      <th>Monthly Debt</th>\n",
       "      <th>Years of Cwhiteit History</th>\n",
       "      <th>Months since last delinquent</th>\n",
       "      <th>Number of Open Accounts</th>\n",
       "      <th>Number of Cwhiteit Problems</th>\n",
       "      <th>Current Cwhiteit Balance</th>\n",
       "      <th>Maximum Open Cwhiteit</th>\n",
       "      <th>Bankruptcies</th>\n",
       "      <th>Tax Liens</th>\n",
       "    </tr>\n",
       "  </thead>\n",
       "  <tbody>\n",
       "    <tr>\n",
       "      <th>0</th>\n",
       "      <td>14dd8831-6af5-400b-83ec-68e61888a048</td>\n",
       "      <td>981165ec-3274-42f5-a3b4-d104041a9ca9</td>\n",
       "      <td>Fully Paid</td>\n",
       "      <td>445412.0</td>\n",
       "      <td>Short Term</td>\n",
       "      <td>709.0</td>\n",
       "      <td>1167493.0</td>\n",
       "      <td>8 years</td>\n",
       "      <td>Home Mortgage</td>\n",
       "      <td>Home Improvements</td>\n",
       "      <td>5214.74</td>\n",
       "      <td>17.2</td>\n",
       "      <td>NaN</td>\n",
       "      <td>6.0</td>\n",
       "      <td>1.0</td>\n",
       "      <td>228190.0</td>\n",
       "      <td>416746.0</td>\n",
       "      <td>1.0</td>\n",
       "      <td>0.0</td>\n",
       "    </tr>\n",
       "    <tr>\n",
       "      <th>1</th>\n",
       "      <td>4771cc26-131a-45db-b5aa-537ea4ba5342</td>\n",
       "      <td>2de017a3-2e01-49cb-a581-08169e83be29</td>\n",
       "      <td>Fully Paid</td>\n",
       "      <td>262328.0</td>\n",
       "      <td>Short Term</td>\n",
       "      <td>NaN</td>\n",
       "      <td>NaN</td>\n",
       "      <td>10+ years</td>\n",
       "      <td>Home Mortgage</td>\n",
       "      <td>Debt Consolidation</td>\n",
       "      <td>33295.98</td>\n",
       "      <td>21.1</td>\n",
       "      <td>8.0</td>\n",
       "      <td>35.0</td>\n",
       "      <td>0.0</td>\n",
       "      <td>229976.0</td>\n",
       "      <td>850784.0</td>\n",
       "      <td>0.0</td>\n",
       "      <td>0.0</td>\n",
       "    </tr>\n",
       "    <tr>\n",
       "      <th>2</th>\n",
       "      <td>4eed4e6a-aa2f-4c91-8651-ce984ee8fb26</td>\n",
       "      <td>5efb2b2b-bf11-4dfd-a572-3761a2694725</td>\n",
       "      <td>Fully Paid</td>\n",
       "      <td>99999999.0</td>\n",
       "      <td>Short Term</td>\n",
       "      <td>741.0</td>\n",
       "      <td>2231892.0</td>\n",
       "      <td>8 years</td>\n",
       "      <td>Own Home</td>\n",
       "      <td>Debt Consolidation</td>\n",
       "      <td>29200.53</td>\n",
       "      <td>14.9</td>\n",
       "      <td>29.0</td>\n",
       "      <td>18.0</td>\n",
       "      <td>1.0</td>\n",
       "      <td>297996.0</td>\n",
       "      <td>750090.0</td>\n",
       "      <td>0.0</td>\n",
       "      <td>0.0</td>\n",
       "    </tr>\n",
       "    <tr>\n",
       "      <th>3</th>\n",
       "      <td>77598f7b-32e7-4e3b-a6e5-06ba0d98fe8a</td>\n",
       "      <td>e777faab-98ae-45af-9a86-7ce5b33b1011</td>\n",
       "      <td>Fully Paid</td>\n",
       "      <td>347666.0</td>\n",
       "      <td>Long Term</td>\n",
       "      <td>721.0</td>\n",
       "      <td>806949.0</td>\n",
       "      <td>3 years</td>\n",
       "      <td>Own Home</td>\n",
       "      <td>Debt Consolidation</td>\n",
       "      <td>8741.90</td>\n",
       "      <td>12.0</td>\n",
       "      <td>NaN</td>\n",
       "      <td>9.0</td>\n",
       "      <td>0.0</td>\n",
       "      <td>256329.0</td>\n",
       "      <td>386958.0</td>\n",
       "      <td>0.0</td>\n",
       "      <td>0.0</td>\n",
       "    </tr>\n",
       "    <tr>\n",
       "      <th>4</th>\n",
       "      <td>d4062e70-befa-4995-8643-a0de73938182</td>\n",
       "      <td>81536ad9-5ccf-4eb8-befb-47a4d608658e</td>\n",
       "      <td>Fully Paid</td>\n",
       "      <td>176220.0</td>\n",
       "      <td>Short Term</td>\n",
       "      <td>NaN</td>\n",
       "      <td>NaN</td>\n",
       "      <td>5 years</td>\n",
       "      <td>Rent</td>\n",
       "      <td>Debt Consolidation</td>\n",
       "      <td>20639.70</td>\n",
       "      <td>6.1</td>\n",
       "      <td>NaN</td>\n",
       "      <td>15.0</td>\n",
       "      <td>0.0</td>\n",
       "      <td>253460.0</td>\n",
       "      <td>427174.0</td>\n",
       "      <td>0.0</td>\n",
       "      <td>0.0</td>\n",
       "    </tr>\n",
       "  </tbody>\n",
       "</table>\n",
       "</div>"
      ],
      "text/plain": [
       "                                Loan ID                           Customer ID  \\\n",
       "0  14dd8831-6af5-400b-83ec-68e61888a048  981165ec-3274-42f5-a3b4-d104041a9ca9   \n",
       "1  4771cc26-131a-45db-b5aa-537ea4ba5342  2de017a3-2e01-49cb-a581-08169e83be29   \n",
       "2  4eed4e6a-aa2f-4c91-8651-ce984ee8fb26  5efb2b2b-bf11-4dfd-a572-3761a2694725   \n",
       "3  77598f7b-32e7-4e3b-a6e5-06ba0d98fe8a  e777faab-98ae-45af-9a86-7ce5b33b1011   \n",
       "4  d4062e70-befa-4995-8643-a0de73938182  81536ad9-5ccf-4eb8-befb-47a4d608658e   \n",
       "\n",
       "  Loan Status  Current Loan Amount        Term  Cwhiteit Score  Annual Income  \\\n",
       "0  Fully Paid             445412.0  Short Term         709.0      1167493.0   \n",
       "1  Fully Paid             262328.0  Short Term           NaN            NaN   \n",
       "2  Fully Paid           99999999.0  Short Term         741.0      2231892.0   \n",
       "3  Fully Paid             347666.0   Long Term         721.0       806949.0   \n",
       "4  Fully Paid             176220.0  Short Term           NaN            NaN   \n",
       "\n",
       "  Years in current job Home Ownership             Purpose  Monthly Debt  \\\n",
       "0              8 years  Home Mortgage   Home Improvements       5214.74   \n",
       "1            10+ years  Home Mortgage  Debt Consolidation      33295.98   \n",
       "2              8 years       Own Home  Debt Consolidation      29200.53   \n",
       "3              3 years       Own Home  Debt Consolidation       8741.90   \n",
       "4              5 years           Rent  Debt Consolidation      20639.70   \n",
       "\n",
       "   Years of Cwhiteit History  Months since last delinquent  \\\n",
       "0                     17.2                           NaN   \n",
       "1                     21.1                           8.0   \n",
       "2                     14.9                          29.0   \n",
       "3                     12.0                           NaN   \n",
       "4                      6.1                           NaN   \n",
       "\n",
       "   Number of Open Accounts  Number of Cwhiteit Problems  Current Cwhiteit Balance  \\\n",
       "0                      6.0                        1.0                228190.0   \n",
       "1                     35.0                        0.0                229976.0   \n",
       "2                     18.0                        1.0                297996.0   \n",
       "3                      9.0                        0.0                256329.0   \n",
       "4                     15.0                        0.0                253460.0   \n",
       "\n",
       "   Maximum Open Cwhiteit  Bankruptcies  Tax Liens  \n",
       "0             416746.0           1.0        0.0  \n",
       "1             850784.0           0.0        0.0  \n",
       "2             750090.0           0.0        0.0  \n",
       "3             386958.0           0.0        0.0  \n",
       "4             427174.0           0.0        0.0  "
      ]
     },
     "execution_count": 6,
     "metadata": {},
     "output_type": "execute_result"
    }
   ],
   "source": [
    "df = pd.read_csv('Bank_Cwhiteit_Data ( Kaggle ).csv')\n",
    "df.head()"
   ]
  },
  {
   "cell_type": "code",
   "execution_count": 7,
   "id": "4876f004",
   "metadata": {},
   "outputs": [
    {
     "data": {
      "text/plain": [
       "(100514, 19)"
      ]
     },
     "execution_count": 7,
     "metadata": {},
     "output_type": "execute_result"
    }
   ],
   "source": [
    "df.shape"
   ]
  },
  {
   "cell_type": "code",
   "execution_count": 8,
   "id": "ff81e929",
   "metadata": {},
   "outputs": [
    {
     "data": {
      "text/html": [
       "<div>\n",
       "<style scoped>\n",
       "    .dataframe tbody tr th:only-of-type {\n",
       "        vertical-align: middle;\n",
       "    }\n",
       "\n",
       "    .dataframe tbody tr th {\n",
       "        vertical-align: top;\n",
       "    }\n",
       "\n",
       "    .dataframe thead th {\n",
       "        text-align: right;\n",
       "    }\n",
       "</style>\n",
       "<table border=\"1\" class=\"dataframe\">\n",
       "  <thead>\n",
       "    <tr style=\"text-align: right;\">\n",
       "      <th></th>\n",
       "      <th>Current Loan Amount</th>\n",
       "      <th>Cwhiteit Score</th>\n",
       "      <th>Annual Income</th>\n",
       "      <th>Monthly Debt</th>\n",
       "      <th>Years of Cwhiteit History</th>\n",
       "      <th>Months since last delinquent</th>\n",
       "      <th>Number of Open Accounts</th>\n",
       "      <th>Number of Cwhiteit Problems</th>\n",
       "      <th>Current Cwhiteit Balance</th>\n",
       "      <th>Maximum Open Cwhiteit</th>\n",
       "      <th>Bankruptcies</th>\n",
       "      <th>Tax Liens</th>\n",
       "    </tr>\n",
       "  </thead>\n",
       "  <tbody>\n",
       "    <tr>\n",
       "      <th>count</th>\n",
       "      <td>1.000000e+05</td>\n",
       "      <td>80846.000000</td>\n",
       "      <td>8.084600e+04</td>\n",
       "      <td>100000.000000</td>\n",
       "      <td>100000.000000</td>\n",
       "      <td>46859.000000</td>\n",
       "      <td>100000.00000</td>\n",
       "      <td>100000.000000</td>\n",
       "      <td>1.000000e+05</td>\n",
       "      <td>9.999800e+04</td>\n",
       "      <td>99796.000000</td>\n",
       "      <td>99990.000000</td>\n",
       "    </tr>\n",
       "    <tr>\n",
       "      <th>mean</th>\n",
       "      <td>1.176045e+07</td>\n",
       "      <td>1076.456089</td>\n",
       "      <td>1.378277e+06</td>\n",
       "      <td>18472.412336</td>\n",
       "      <td>18.199141</td>\n",
       "      <td>34.901321</td>\n",
       "      <td>11.12853</td>\n",
       "      <td>0.168310</td>\n",
       "      <td>2.946374e+05</td>\n",
       "      <td>7.607984e+05</td>\n",
       "      <td>0.117740</td>\n",
       "      <td>0.029313</td>\n",
       "    </tr>\n",
       "    <tr>\n",
       "      <th>std</th>\n",
       "      <td>3.178394e+07</td>\n",
       "      <td>1475.403791</td>\n",
       "      <td>1.081360e+06</td>\n",
       "      <td>12174.992609</td>\n",
       "      <td>7.015324</td>\n",
       "      <td>21.997829</td>\n",
       "      <td>5.00987</td>\n",
       "      <td>0.482705</td>\n",
       "      <td>3.761709e+05</td>\n",
       "      <td>8.384503e+06</td>\n",
       "      <td>0.351424</td>\n",
       "      <td>0.258182</td>\n",
       "    </tr>\n",
       "    <tr>\n",
       "      <th>min</th>\n",
       "      <td>1.080200e+04</td>\n",
       "      <td>585.000000</td>\n",
       "      <td>7.662700e+04</td>\n",
       "      <td>0.000000</td>\n",
       "      <td>3.600000</td>\n",
       "      <td>0.000000</td>\n",
       "      <td>0.00000</td>\n",
       "      <td>0.000000</td>\n",
       "      <td>0.000000e+00</td>\n",
       "      <td>0.000000e+00</td>\n",
       "      <td>0.000000</td>\n",
       "      <td>0.000000</td>\n",
       "    </tr>\n",
       "    <tr>\n",
       "      <th>25%</th>\n",
       "      <td>1.796520e+05</td>\n",
       "      <td>705.000000</td>\n",
       "      <td>8.488440e+05</td>\n",
       "      <td>10214.162500</td>\n",
       "      <td>13.500000</td>\n",
       "      <td>16.000000</td>\n",
       "      <td>8.00000</td>\n",
       "      <td>0.000000</td>\n",
       "      <td>1.126700e+05</td>\n",
       "      <td>2.734380e+05</td>\n",
       "      <td>0.000000</td>\n",
       "      <td>0.000000</td>\n",
       "    </tr>\n",
       "    <tr>\n",
       "      <th>50%</th>\n",
       "      <td>3.122460e+05</td>\n",
       "      <td>724.000000</td>\n",
       "      <td>1.174162e+06</td>\n",
       "      <td>16220.300000</td>\n",
       "      <td>16.900000</td>\n",
       "      <td>32.000000</td>\n",
       "      <td>10.00000</td>\n",
       "      <td>0.000000</td>\n",
       "      <td>2.098170e+05</td>\n",
       "      <td>4.678740e+05</td>\n",
       "      <td>0.000000</td>\n",
       "      <td>0.000000</td>\n",
       "    </tr>\n",
       "    <tr>\n",
       "      <th>75%</th>\n",
       "      <td>5.249420e+05</td>\n",
       "      <td>741.000000</td>\n",
       "      <td>1.650663e+06</td>\n",
       "      <td>24012.057500</td>\n",
       "      <td>21.700000</td>\n",
       "      <td>51.000000</td>\n",
       "      <td>14.00000</td>\n",
       "      <td>0.000000</td>\n",
       "      <td>3.679588e+05</td>\n",
       "      <td>7.829580e+05</td>\n",
       "      <td>0.000000</td>\n",
       "      <td>0.000000</td>\n",
       "    </tr>\n",
       "    <tr>\n",
       "      <th>max</th>\n",
       "      <td>1.000000e+08</td>\n",
       "      <td>7510.000000</td>\n",
       "      <td>1.655574e+08</td>\n",
       "      <td>435843.280000</td>\n",
       "      <td>70.500000</td>\n",
       "      <td>176.000000</td>\n",
       "      <td>76.00000</td>\n",
       "      <td>15.000000</td>\n",
       "      <td>3.287897e+07</td>\n",
       "      <td>1.539738e+09</td>\n",
       "      <td>7.000000</td>\n",
       "      <td>15.000000</td>\n",
       "    </tr>\n",
       "  </tbody>\n",
       "</table>\n",
       "</div>"
      ],
      "text/plain": [
       "       Current Loan Amount  Cwhiteit Score  Annual Income   Monthly Debt  \\\n",
       "count         1.000000e+05  80846.000000   8.084600e+04  100000.000000   \n",
       "mean          1.176045e+07   1076.456089   1.378277e+06   18472.412336   \n",
       "std           3.178394e+07   1475.403791   1.081360e+06   12174.992609   \n",
       "min           1.080200e+04    585.000000   7.662700e+04       0.000000   \n",
       "25%           1.796520e+05    705.000000   8.488440e+05   10214.162500   \n",
       "50%           3.122460e+05    724.000000   1.174162e+06   16220.300000   \n",
       "75%           5.249420e+05    741.000000   1.650663e+06   24012.057500   \n",
       "max           1.000000e+08   7510.000000   1.655574e+08  435843.280000   \n",
       "\n",
       "       Years of Cwhiteit History  Months since last delinquent  \\\n",
       "count            100000.000000                  46859.000000   \n",
       "mean                 18.199141                     34.901321   \n",
       "std                   7.015324                     21.997829   \n",
       "min                   3.600000                      0.000000   \n",
       "25%                  13.500000                     16.000000   \n",
       "50%                  16.900000                     32.000000   \n",
       "75%                  21.700000                     51.000000   \n",
       "max                  70.500000                    176.000000   \n",
       "\n",
       "       Number of Open Accounts  Number of Cwhiteit Problems  \\\n",
       "count             100000.00000              100000.000000   \n",
       "mean                  11.12853                   0.168310   \n",
       "std                    5.00987                   0.482705   \n",
       "min                    0.00000                   0.000000   \n",
       "25%                    8.00000                   0.000000   \n",
       "50%                   10.00000                   0.000000   \n",
       "75%                   14.00000                   0.000000   \n",
       "max                   76.00000                  15.000000   \n",
       "\n",
       "       Current Cwhiteit Balance  Maximum Open Cwhiteit  Bankruptcies     Tax Liens  \n",
       "count            1.000000e+05         9.999800e+04  99796.000000  99990.000000  \n",
       "mean             2.946374e+05         7.607984e+05      0.117740      0.029313  \n",
       "std              3.761709e+05         8.384503e+06      0.351424      0.258182  \n",
       "min              0.000000e+00         0.000000e+00      0.000000      0.000000  \n",
       "25%              1.126700e+05         2.734380e+05      0.000000      0.000000  \n",
       "50%              2.098170e+05         4.678740e+05      0.000000      0.000000  \n",
       "75%              3.679588e+05         7.829580e+05      0.000000      0.000000  \n",
       "max              3.287897e+07         1.539738e+09      7.000000     15.000000  "
      ]
     },
     "execution_count": 8,
     "metadata": {},
     "output_type": "execute_result"
    }
   ],
   "source": [
    "df.describe()"
   ]
  },
  {
   "cell_type": "code",
   "execution_count": 9,
   "id": "b2970425",
   "metadata": {},
   "outputs": [
    {
     "name": "stdout",
     "output_type": "stream",
     "text": [
      "<class 'pandas.core.frame.DataFrame'>\n",
      "RangeIndex: 100514 entries, 0 to 100513\n",
      "Data columns (total 19 columns):\n",
      " #   Column                        Non-Null Count   Dtype  \n",
      "---  ------                        --------------   -----  \n",
      " 0   Loan ID                       100000 non-null  object \n",
      " 1   Customer ID                   100000 non-null  object \n",
      " 2   Loan Status                   100000 non-null  object \n",
      " 3   Current Loan Amount           100000 non-null  float64\n",
      " 4   Term                          100000 non-null  object \n",
      " 5   Cwhiteit Score                  80846 non-null   float64\n",
      " 6   Annual Income                 80846 non-null   float64\n",
      " 7   Years in current job          95778 non-null   object \n",
      " 8   Home Ownership                100000 non-null  object \n",
      " 9   Purpose                       100000 non-null  object \n",
      " 10  Monthly Debt                  100000 non-null  float64\n",
      " 11  Years of Cwhiteit History       100000 non-null  float64\n",
      " 12  Months since last delinquent  46859 non-null   float64\n",
      " 13  Number of Open Accounts       100000 non-null  float64\n",
      " 14  Number of Cwhiteit Problems     100000 non-null  float64\n",
      " 15  Current Cwhiteit Balance        100000 non-null  float64\n",
      " 16  Maximum Open Cwhiteit           99998 non-null   float64\n",
      " 17  Bankruptcies                  99796 non-null   float64\n",
      " 18  Tax Liens                     99990 non-null   float64\n",
      "dtypes: float64(12), object(7)\n",
      "memory usage: 14.6+ MB\n"
     ]
    }
   ],
   "source": [
    "df.info()"
   ]
  },
  {
   "cell_type": "code",
   "execution_count": 10,
   "id": "7b49f04f",
   "metadata": {},
   "outputs": [],
   "source": [
    "def missing_values(mv):\n",
    "    Num_null_values = mv.isnull().sum()\n",
    "    return Num_null_values"
   ]
  },
  {
   "cell_type": "code",
   "execution_count": 11,
   "id": "2df696c8",
   "metadata": {},
   "outputs": [
    {
     "data": {
      "text/plain": [
       "Loan ID                           514\n",
       "Customer ID                       514\n",
       "Loan Status                       514\n",
       "Current Loan Amount               514\n",
       "Term                              514\n",
       "Cwhiteit Score                    19668\n",
       "Annual Income                   19668\n",
       "Years in current job             4736\n",
       "Home Ownership                    514\n",
       "Purpose                           514\n",
       "Monthly Debt                      514\n",
       "Years of Cwhiteit History           514\n",
       "Months since last delinquent    53655\n",
       "Number of Open Accounts           514\n",
       "Number of Cwhiteit Problems         514\n",
       "Current Cwhiteit Balance            514\n",
       "Maximum Open Cwhiteit               516\n",
       "Bankruptcies                      718\n",
       "Tax Liens                         524\n",
       "dtype: int64"
      ]
     },
     "execution_count": 11,
     "metadata": {},
     "output_type": "execute_result"
    }
   ],
   "source": [
    "missing_values(df)"
   ]
  },
  {
   "cell_type": "code",
   "execution_count": 12,
   "id": "67256dbc",
   "metadata": {},
   "outputs": [
    {
     "data": {
      "text/plain": [
       "array(['8 years', '10+ years', '3 years', '5 years', '< 1 year',\n",
       "       '2 years', '4 years', '9 years', '7 years', '1 year', nan,\n",
       "       '6 years'], dtype=object)"
      ]
     },
     "execution_count": 12,
     "metadata": {},
     "output_type": "execute_result"
    }
   ],
   "source": [
    "df['Years in current job'].unique()"
   ]
  },
  {
   "cell_type": "code",
   "execution_count": 13,
   "id": "02b1cb53",
   "metadata": {},
   "outputs": [],
   "source": [
    "df.drop(['Loan ID','Years in current job','Customer ID'],axis = 1 , inplace = True)"
   ]
  },
  {
   "cell_type": "code",
   "execution_count": 14,
   "id": "2a9f5dca",
   "metadata": {},
   "outputs": [
    {
     "data": {
      "text/plain": [
       "Loan Status                       514\n",
       "Current Loan Amount               514\n",
       "Term                              514\n",
       "Cwhiteit Score                    19668\n",
       "Annual Income                   19668\n",
       "Home Ownership                    514\n",
       "Purpose                           514\n",
       "Monthly Debt                      514\n",
       "Years of Cwhiteit History           514\n",
       "Months since last delinquent    53655\n",
       "Number of Open Accounts           514\n",
       "Number of Cwhiteit Problems         514\n",
       "Current Cwhiteit Balance            514\n",
       "Maximum Open Cwhiteit               516\n",
       "Bankruptcies                      718\n",
       "Tax Liens                         524\n",
       "dtype: int64"
      ]
     },
     "execution_count": 14,
     "metadata": {},
     "output_type": "execute_result"
    }
   ],
   "source": [
    "missing_values(df)"
   ]
  },
  {
   "cell_type": "code",
   "execution_count": 15,
   "id": "97c82208",
   "metadata": {},
   "outputs": [
    {
     "data": {
      "text/html": [
       "<div>\n",
       "<style scoped>\n",
       "    .dataframe tbody tr th:only-of-type {\n",
       "        vertical-align: middle;\n",
       "    }\n",
       "\n",
       "    .dataframe tbody tr th {\n",
       "        vertical-align: top;\n",
       "    }\n",
       "\n",
       "    .dataframe thead th {\n",
       "        text-align: right;\n",
       "    }\n",
       "</style>\n",
       "<table border=\"1\" class=\"dataframe\">\n",
       "  <thead>\n",
       "    <tr style=\"text-align: right;\">\n",
       "      <th></th>\n",
       "      <th>Loan Status</th>\n",
       "      <th>Current Loan Amount</th>\n",
       "      <th>Term</th>\n",
       "      <th>Cwhiteit Score</th>\n",
       "      <th>Annual Income</th>\n",
       "      <th>Home Ownership</th>\n",
       "      <th>Purpose</th>\n",
       "      <th>Monthly Debt</th>\n",
       "      <th>Years of Cwhiteit History</th>\n",
       "      <th>Months since last delinquent</th>\n",
       "      <th>Number of Open Accounts</th>\n",
       "      <th>Number of Cwhiteit Problems</th>\n",
       "      <th>Current Cwhiteit Balance</th>\n",
       "      <th>Maximum Open Cwhiteit</th>\n",
       "      <th>Bankruptcies</th>\n",
       "      <th>Tax Liens</th>\n",
       "    </tr>\n",
       "  </thead>\n",
       "  <tbody>\n",
       "    <tr>\n",
       "      <th>0</th>\n",
       "      <td>Fully Paid</td>\n",
       "      <td>445412.0</td>\n",
       "      <td>Short Term</td>\n",
       "      <td>709.0</td>\n",
       "      <td>1167493.0</td>\n",
       "      <td>Home Mortgage</td>\n",
       "      <td>Home Improvements</td>\n",
       "      <td>5214.74</td>\n",
       "      <td>17.2</td>\n",
       "      <td>NaN</td>\n",
       "      <td>6.0</td>\n",
       "      <td>1.0</td>\n",
       "      <td>228190.0</td>\n",
       "      <td>416746.0</td>\n",
       "      <td>1.0</td>\n",
       "      <td>0.0</td>\n",
       "    </tr>\n",
       "    <tr>\n",
       "      <th>1</th>\n",
       "      <td>Fully Paid</td>\n",
       "      <td>262328.0</td>\n",
       "      <td>Short Term</td>\n",
       "      <td>NaN</td>\n",
       "      <td>NaN</td>\n",
       "      <td>Home Mortgage</td>\n",
       "      <td>Debt Consolidation</td>\n",
       "      <td>33295.98</td>\n",
       "      <td>21.1</td>\n",
       "      <td>8.0</td>\n",
       "      <td>35.0</td>\n",
       "      <td>0.0</td>\n",
       "      <td>229976.0</td>\n",
       "      <td>850784.0</td>\n",
       "      <td>0.0</td>\n",
       "      <td>0.0</td>\n",
       "    </tr>\n",
       "    <tr>\n",
       "      <th>2</th>\n",
       "      <td>Fully Paid</td>\n",
       "      <td>99999999.0</td>\n",
       "      <td>Short Term</td>\n",
       "      <td>741.0</td>\n",
       "      <td>2231892.0</td>\n",
       "      <td>Own Home</td>\n",
       "      <td>Debt Consolidation</td>\n",
       "      <td>29200.53</td>\n",
       "      <td>14.9</td>\n",
       "      <td>29.0</td>\n",
       "      <td>18.0</td>\n",
       "      <td>1.0</td>\n",
       "      <td>297996.0</td>\n",
       "      <td>750090.0</td>\n",
       "      <td>0.0</td>\n",
       "      <td>0.0</td>\n",
       "    </tr>\n",
       "    <tr>\n",
       "      <th>3</th>\n",
       "      <td>Fully Paid</td>\n",
       "      <td>347666.0</td>\n",
       "      <td>Long Term</td>\n",
       "      <td>721.0</td>\n",
       "      <td>806949.0</td>\n",
       "      <td>Own Home</td>\n",
       "      <td>Debt Consolidation</td>\n",
       "      <td>8741.90</td>\n",
       "      <td>12.0</td>\n",
       "      <td>NaN</td>\n",
       "      <td>9.0</td>\n",
       "      <td>0.0</td>\n",
       "      <td>256329.0</td>\n",
       "      <td>386958.0</td>\n",
       "      <td>0.0</td>\n",
       "      <td>0.0</td>\n",
       "    </tr>\n",
       "    <tr>\n",
       "      <th>4</th>\n",
       "      <td>Fully Paid</td>\n",
       "      <td>176220.0</td>\n",
       "      <td>Short Term</td>\n",
       "      <td>NaN</td>\n",
       "      <td>NaN</td>\n",
       "      <td>Rent</td>\n",
       "      <td>Debt Consolidation</td>\n",
       "      <td>20639.70</td>\n",
       "      <td>6.1</td>\n",
       "      <td>NaN</td>\n",
       "      <td>15.0</td>\n",
       "      <td>0.0</td>\n",
       "      <td>253460.0</td>\n",
       "      <td>427174.0</td>\n",
       "      <td>0.0</td>\n",
       "      <td>0.0</td>\n",
       "    </tr>\n",
       "  </tbody>\n",
       "</table>\n",
       "</div>"
      ],
      "text/plain": [
       "  Loan Status  Current Loan Amount        Term  Cwhiteit Score  Annual Income  \\\n",
       "0  Fully Paid             445412.0  Short Term         709.0      1167493.0   \n",
       "1  Fully Paid             262328.0  Short Term           NaN            NaN   \n",
       "2  Fully Paid           99999999.0  Short Term         741.0      2231892.0   \n",
       "3  Fully Paid             347666.0   Long Term         721.0       806949.0   \n",
       "4  Fully Paid             176220.0  Short Term           NaN            NaN   \n",
       "\n",
       "  Home Ownership             Purpose  Monthly Debt  Years of Cwhiteit History  \\\n",
       "0  Home Mortgage   Home Improvements       5214.74                     17.2   \n",
       "1  Home Mortgage  Debt Consolidation      33295.98                     21.1   \n",
       "2       Own Home  Debt Consolidation      29200.53                     14.9   \n",
       "3       Own Home  Debt Consolidation       8741.90                     12.0   \n",
       "4           Rent  Debt Consolidation      20639.70                      6.1   \n",
       "\n",
       "   Months since last delinquent  Number of Open Accounts  \\\n",
       "0                           NaN                      6.0   \n",
       "1                           8.0                     35.0   \n",
       "2                          29.0                     18.0   \n",
       "3                           NaN                      9.0   \n",
       "4                           NaN                     15.0   \n",
       "\n",
       "   Number of Cwhiteit Problems  Current Cwhiteit Balance  Maximum Open Cwhiteit  \\\n",
       "0                        1.0                228190.0             416746.0   \n",
       "1                        0.0                229976.0             850784.0   \n",
       "2                        1.0                297996.0             750090.0   \n",
       "3                        0.0                256329.0             386958.0   \n",
       "4                        0.0                253460.0             427174.0   \n",
       "\n",
       "   Bankruptcies  Tax Liens  \n",
       "0           1.0        0.0  \n",
       "1           0.0        0.0  \n",
       "2           0.0        0.0  \n",
       "3           0.0        0.0  \n",
       "4           0.0        0.0  "
      ]
     },
     "execution_count": 15,
     "metadata": {},
     "output_type": "execute_result"
    }
   ],
   "source": [
    "df.head()"
   ]
  },
  {
   "cell_type": "code",
   "execution_count": 16,
   "id": "2a285b0d",
   "metadata": {},
   "outputs": [
    {
     "data": {
      "text/plain": [
       "array(['Home Mortgage', 'Own Home', 'Rent', 'HaveMortgage', nan],\n",
       "      dtype=object)"
      ]
     },
     "execution_count": 16,
     "metadata": {},
     "output_type": "execute_result"
    }
   ],
   "source": [
    "df['Home Ownership'].unique()"
   ]
  },
  {
   "cell_type": "code",
   "execution_count": 17,
   "id": "df3f56e8",
   "metadata": {},
   "outputs": [
    {
     "data": {
      "text/plain": [
       "array(['Home Improvements', 'Debt Consolidation', 'Buy House', 'other',\n",
       "       'Business Loan', 'Buy a Car', 'major_purchase', 'Take a Trip',\n",
       "       'Other', 'small_business', 'Medical Bills', 'wedding', 'vacation',\n",
       "       'Educational Expenses', 'moving', 'renewable_energy', nan],\n",
       "      dtype=object)"
      ]
     },
     "execution_count": 17,
     "metadata": {},
     "output_type": "execute_result"
    }
   ],
   "source": [
    "df['Purpose'].unique()"
   ]
  },
  {
   "cell_type": "code",
   "execution_count": 18,
   "id": "be2fd2d4",
   "metadata": {},
   "outputs": [
    {
     "data": {
      "text/plain": [
       "array(['Fully Paid', 'Charged Off', nan], dtype=object)"
      ]
     },
     "execution_count": 18,
     "metadata": {},
     "output_type": "execute_result"
    }
   ],
   "source": [
    "df['Loan Status'].unique()"
   ]
  },
  {
   "cell_type": "code",
   "execution_count": 19,
   "id": "ce4553c7",
   "metadata": {},
   "outputs": [
    {
     "data": {
      "text/plain": [
       "array(['Short Term', 'Long Term', nan], dtype=object)"
      ]
     },
     "execution_count": 19,
     "metadata": {},
     "output_type": "execute_result"
    }
   ],
   "source": [
    "df['Term'].unique()"
   ]
  },
  {
   "cell_type": "code",
   "execution_count": 20,
   "id": "3c11555a",
   "metadata": {},
   "outputs": [],
   "source": [
    "df.drop(['Purpose'],axis = 1 , inplace = True)"
   ]
  },
  {
   "cell_type": "code",
   "execution_count": 21,
   "id": "16a11328",
   "metadata": {},
   "outputs": [
    {
     "data": {
      "text/html": [
       "<div>\n",
       "<style scoped>\n",
       "    .dataframe tbody tr th:only-of-type {\n",
       "        vertical-align: middle;\n",
       "    }\n",
       "\n",
       "    .dataframe tbody tr th {\n",
       "        vertical-align: top;\n",
       "    }\n",
       "\n",
       "    .dataframe thead th {\n",
       "        text-align: right;\n",
       "    }\n",
       "</style>\n",
       "<table border=\"1\" class=\"dataframe\">\n",
       "  <thead>\n",
       "    <tr style=\"text-align: right;\">\n",
       "      <th></th>\n",
       "      <th>Loan Status</th>\n",
       "      <th>Current Loan Amount</th>\n",
       "      <th>Term</th>\n",
       "      <th>Cwhiteit Score</th>\n",
       "      <th>Annual Income</th>\n",
       "      <th>Home Ownership</th>\n",
       "      <th>Monthly Debt</th>\n",
       "      <th>Years of Cwhiteit History</th>\n",
       "      <th>Months since last delinquent</th>\n",
       "      <th>Number of Open Accounts</th>\n",
       "      <th>Number of Cwhiteit Problems</th>\n",
       "      <th>Current Cwhiteit Balance</th>\n",
       "      <th>Maximum Open Cwhiteit</th>\n",
       "      <th>Bankruptcies</th>\n",
       "      <th>Tax Liens</th>\n",
       "    </tr>\n",
       "  </thead>\n",
       "  <tbody>\n",
       "    <tr>\n",
       "      <th>0</th>\n",
       "      <td>Fully Paid</td>\n",
       "      <td>445412.0</td>\n",
       "      <td>Short Term</td>\n",
       "      <td>709.0</td>\n",
       "      <td>1167493.0</td>\n",
       "      <td>Home Mortgage</td>\n",
       "      <td>5214.74</td>\n",
       "      <td>17.2</td>\n",
       "      <td>NaN</td>\n",
       "      <td>6.0</td>\n",
       "      <td>1.0</td>\n",
       "      <td>228190.0</td>\n",
       "      <td>416746.0</td>\n",
       "      <td>1.0</td>\n",
       "      <td>0.0</td>\n",
       "    </tr>\n",
       "    <tr>\n",
       "      <th>1</th>\n",
       "      <td>Fully Paid</td>\n",
       "      <td>262328.0</td>\n",
       "      <td>Short Term</td>\n",
       "      <td>NaN</td>\n",
       "      <td>NaN</td>\n",
       "      <td>Home Mortgage</td>\n",
       "      <td>33295.98</td>\n",
       "      <td>21.1</td>\n",
       "      <td>8.0</td>\n",
       "      <td>35.0</td>\n",
       "      <td>0.0</td>\n",
       "      <td>229976.0</td>\n",
       "      <td>850784.0</td>\n",
       "      <td>0.0</td>\n",
       "      <td>0.0</td>\n",
       "    </tr>\n",
       "    <tr>\n",
       "      <th>2</th>\n",
       "      <td>Fully Paid</td>\n",
       "      <td>99999999.0</td>\n",
       "      <td>Short Term</td>\n",
       "      <td>741.0</td>\n",
       "      <td>2231892.0</td>\n",
       "      <td>Own Home</td>\n",
       "      <td>29200.53</td>\n",
       "      <td>14.9</td>\n",
       "      <td>29.0</td>\n",
       "      <td>18.0</td>\n",
       "      <td>1.0</td>\n",
       "      <td>297996.0</td>\n",
       "      <td>750090.0</td>\n",
       "      <td>0.0</td>\n",
       "      <td>0.0</td>\n",
       "    </tr>\n",
       "    <tr>\n",
       "      <th>3</th>\n",
       "      <td>Fully Paid</td>\n",
       "      <td>347666.0</td>\n",
       "      <td>Long Term</td>\n",
       "      <td>721.0</td>\n",
       "      <td>806949.0</td>\n",
       "      <td>Own Home</td>\n",
       "      <td>8741.90</td>\n",
       "      <td>12.0</td>\n",
       "      <td>NaN</td>\n",
       "      <td>9.0</td>\n",
       "      <td>0.0</td>\n",
       "      <td>256329.0</td>\n",
       "      <td>386958.0</td>\n",
       "      <td>0.0</td>\n",
       "      <td>0.0</td>\n",
       "    </tr>\n",
       "    <tr>\n",
       "      <th>4</th>\n",
       "      <td>Fully Paid</td>\n",
       "      <td>176220.0</td>\n",
       "      <td>Short Term</td>\n",
       "      <td>NaN</td>\n",
       "      <td>NaN</td>\n",
       "      <td>Rent</td>\n",
       "      <td>20639.70</td>\n",
       "      <td>6.1</td>\n",
       "      <td>NaN</td>\n",
       "      <td>15.0</td>\n",
       "      <td>0.0</td>\n",
       "      <td>253460.0</td>\n",
       "      <td>427174.0</td>\n",
       "      <td>0.0</td>\n",
       "      <td>0.0</td>\n",
       "    </tr>\n",
       "    <tr>\n",
       "      <th>...</th>\n",
       "      <td>...</td>\n",
       "      <td>...</td>\n",
       "      <td>...</td>\n",
       "      <td>...</td>\n",
       "      <td>...</td>\n",
       "      <td>...</td>\n",
       "      <td>...</td>\n",
       "      <td>...</td>\n",
       "      <td>...</td>\n",
       "      <td>...</td>\n",
       "      <td>...</td>\n",
       "      <td>...</td>\n",
       "      <td>...</td>\n",
       "      <td>...</td>\n",
       "      <td>...</td>\n",
       "    </tr>\n",
       "    <tr>\n",
       "      <th>100509</th>\n",
       "      <td>NaN</td>\n",
       "      <td>NaN</td>\n",
       "      <td>NaN</td>\n",
       "      <td>NaN</td>\n",
       "      <td>NaN</td>\n",
       "      <td>NaN</td>\n",
       "      <td>NaN</td>\n",
       "      <td>NaN</td>\n",
       "      <td>NaN</td>\n",
       "      <td>NaN</td>\n",
       "      <td>NaN</td>\n",
       "      <td>NaN</td>\n",
       "      <td>NaN</td>\n",
       "      <td>NaN</td>\n",
       "      <td>NaN</td>\n",
       "    </tr>\n",
       "    <tr>\n",
       "      <th>100510</th>\n",
       "      <td>NaN</td>\n",
       "      <td>NaN</td>\n",
       "      <td>NaN</td>\n",
       "      <td>NaN</td>\n",
       "      <td>NaN</td>\n",
       "      <td>NaN</td>\n",
       "      <td>NaN</td>\n",
       "      <td>NaN</td>\n",
       "      <td>NaN</td>\n",
       "      <td>NaN</td>\n",
       "      <td>NaN</td>\n",
       "      <td>NaN</td>\n",
       "      <td>NaN</td>\n",
       "      <td>NaN</td>\n",
       "      <td>NaN</td>\n",
       "    </tr>\n",
       "    <tr>\n",
       "      <th>100511</th>\n",
       "      <td>NaN</td>\n",
       "      <td>NaN</td>\n",
       "      <td>NaN</td>\n",
       "      <td>NaN</td>\n",
       "      <td>NaN</td>\n",
       "      <td>NaN</td>\n",
       "      <td>NaN</td>\n",
       "      <td>NaN</td>\n",
       "      <td>NaN</td>\n",
       "      <td>NaN</td>\n",
       "      <td>NaN</td>\n",
       "      <td>NaN</td>\n",
       "      <td>NaN</td>\n",
       "      <td>NaN</td>\n",
       "      <td>NaN</td>\n",
       "    </tr>\n",
       "    <tr>\n",
       "      <th>100512</th>\n",
       "      <td>NaN</td>\n",
       "      <td>NaN</td>\n",
       "      <td>NaN</td>\n",
       "      <td>NaN</td>\n",
       "      <td>NaN</td>\n",
       "      <td>NaN</td>\n",
       "      <td>NaN</td>\n",
       "      <td>NaN</td>\n",
       "      <td>NaN</td>\n",
       "      <td>NaN</td>\n",
       "      <td>NaN</td>\n",
       "      <td>NaN</td>\n",
       "      <td>NaN</td>\n",
       "      <td>NaN</td>\n",
       "      <td>NaN</td>\n",
       "    </tr>\n",
       "    <tr>\n",
       "      <th>100513</th>\n",
       "      <td>NaN</td>\n",
       "      <td>NaN</td>\n",
       "      <td>NaN</td>\n",
       "      <td>NaN</td>\n",
       "      <td>NaN</td>\n",
       "      <td>NaN</td>\n",
       "      <td>NaN</td>\n",
       "      <td>NaN</td>\n",
       "      <td>NaN</td>\n",
       "      <td>NaN</td>\n",
       "      <td>NaN</td>\n",
       "      <td>NaN</td>\n",
       "      <td>NaN</td>\n",
       "      <td>NaN</td>\n",
       "      <td>NaN</td>\n",
       "    </tr>\n",
       "  </tbody>\n",
       "</table>\n",
       "<p>100514 rows × 15 columns</p>\n",
       "</div>"
      ],
      "text/plain": [
       "       Loan Status  Current Loan Amount        Term  Cwhiteit Score  \\\n",
       "0       Fully Paid             445412.0  Short Term         709.0   \n",
       "1       Fully Paid             262328.0  Short Term           NaN   \n",
       "2       Fully Paid           99999999.0  Short Term         741.0   \n",
       "3       Fully Paid             347666.0   Long Term         721.0   \n",
       "4       Fully Paid             176220.0  Short Term           NaN   \n",
       "...            ...                  ...         ...           ...   \n",
       "100509         NaN                  NaN         NaN           NaN   \n",
       "100510         NaN                  NaN         NaN           NaN   \n",
       "100511         NaN                  NaN         NaN           NaN   \n",
       "100512         NaN                  NaN         NaN           NaN   \n",
       "100513         NaN                  NaN         NaN           NaN   \n",
       "\n",
       "        Annual Income Home Ownership  Monthly Debt  Years of Cwhiteit History  \\\n",
       "0           1167493.0  Home Mortgage       5214.74                     17.2   \n",
       "1                 NaN  Home Mortgage      33295.98                     21.1   \n",
       "2           2231892.0       Own Home      29200.53                     14.9   \n",
       "3            806949.0       Own Home       8741.90                     12.0   \n",
       "4                 NaN           Rent      20639.70                      6.1   \n",
       "...               ...            ...           ...                      ...   \n",
       "100509            NaN            NaN           NaN                      NaN   \n",
       "100510            NaN            NaN           NaN                      NaN   \n",
       "100511            NaN            NaN           NaN                      NaN   \n",
       "100512            NaN            NaN           NaN                      NaN   \n",
       "100513            NaN            NaN           NaN                      NaN   \n",
       "\n",
       "        Months since last delinquent  Number of Open Accounts  \\\n",
       "0                                NaN                      6.0   \n",
       "1                                8.0                     35.0   \n",
       "2                               29.0                     18.0   \n",
       "3                                NaN                      9.0   \n",
       "4                                NaN                     15.0   \n",
       "...                              ...                      ...   \n",
       "100509                           NaN                      NaN   \n",
       "100510                           NaN                      NaN   \n",
       "100511                           NaN                      NaN   \n",
       "100512                           NaN                      NaN   \n",
       "100513                           NaN                      NaN   \n",
       "\n",
       "        Number of Cwhiteit Problems  Current Cwhiteit Balance  \\\n",
       "0                             1.0                228190.0   \n",
       "1                             0.0                229976.0   \n",
       "2                             1.0                297996.0   \n",
       "3                             0.0                256329.0   \n",
       "4                             0.0                253460.0   \n",
       "...                           ...                     ...   \n",
       "100509                        NaN                     NaN   \n",
       "100510                        NaN                     NaN   \n",
       "100511                        NaN                     NaN   \n",
       "100512                        NaN                     NaN   \n",
       "100513                        NaN                     NaN   \n",
       "\n",
       "        Maximum Open Cwhiteit  Bankruptcies  Tax Liens  \n",
       "0                  416746.0           1.0        0.0  \n",
       "1                  850784.0           0.0        0.0  \n",
       "2                  750090.0           0.0        0.0  \n",
       "3                  386958.0           0.0        0.0  \n",
       "4                  427174.0           0.0        0.0  \n",
       "...                     ...           ...        ...  \n",
       "100509                  NaN           NaN        NaN  \n",
       "100510                  NaN           NaN        NaN  \n",
       "100511                  NaN           NaN        NaN  \n",
       "100512                  NaN           NaN        NaN  \n",
       "100513                  NaN           NaN        NaN  \n",
       "\n",
       "[100514 rows x 15 columns]"
      ]
     },
     "execution_count": 21,
     "metadata": {},
     "output_type": "execute_result"
    }
   ],
   "source": [
    "df"
   ]
  },
  {
   "cell_type": "code",
   "execution_count": 22,
   "id": "90ffd1bf",
   "metadata": {},
   "outputs": [
    {
     "data": {
      "text/plain": [
       "514"
      ]
     },
     "execution_count": 22,
     "metadata": {},
     "output_type": "execute_result"
    }
   ],
   "source": [
    "df['Loan Status'].isnull().sum()"
   ]
  },
  {
   "cell_type": "code",
   "execution_count": 23,
   "id": "e4d98db3",
   "metadata": {},
   "outputs": [],
   "source": [
    "df.dropna(subset = ['Loan Status'],inplace = True)"
   ]
  },
  {
   "cell_type": "code",
   "execution_count": 24,
   "id": "dcc6e56f",
   "metadata": {},
   "outputs": [
    {
     "data": {
      "text/plain": [
       "Loan Status                         0\n",
       "Current Loan Amount                 0\n",
       "Term                                0\n",
       "Cwhiteit Score                    19154\n",
       "Annual Income                   19154\n",
       "Home Ownership                      0\n",
       "Monthly Debt                        0\n",
       "Years of Cwhiteit History             0\n",
       "Months since last delinquent    53141\n",
       "Number of Open Accounts             0\n",
       "Number of Cwhiteit Problems           0\n",
       "Current Cwhiteit Balance              0\n",
       "Maximum Open Cwhiteit                 2\n",
       "Bankruptcies                      204\n",
       "Tax Liens                          10\n",
       "dtype: int64"
      ]
     },
     "execution_count": 24,
     "metadata": {},
     "output_type": "execute_result"
    }
   ],
   "source": [
    "missing_values(df)"
   ]
  },
  {
   "cell_type": "code",
   "execution_count": 25,
   "id": "59b04cd5",
   "metadata": {},
   "outputs": [
    {
     "data": {
      "text/html": [
       "<div>\n",
       "<style scoped>\n",
       "    .dataframe tbody tr th:only-of-type {\n",
       "        vertical-align: middle;\n",
       "    }\n",
       "\n",
       "    .dataframe tbody tr th {\n",
       "        vertical-align: top;\n",
       "    }\n",
       "\n",
       "    .dataframe thead th {\n",
       "        text-align: right;\n",
       "    }\n",
       "</style>\n",
       "<table border=\"1\" class=\"dataframe\">\n",
       "  <thead>\n",
       "    <tr style=\"text-align: right;\">\n",
       "      <th></th>\n",
       "      <th>Loan Status</th>\n",
       "      <th>Current Loan Amount</th>\n",
       "      <th>Term</th>\n",
       "      <th>Cwhiteit Score</th>\n",
       "      <th>Annual Income</th>\n",
       "      <th>Home Ownership</th>\n",
       "      <th>Monthly Debt</th>\n",
       "      <th>Years of Cwhiteit History</th>\n",
       "      <th>Months since last delinquent</th>\n",
       "      <th>Number of Open Accounts</th>\n",
       "      <th>Number of Cwhiteit Problems</th>\n",
       "      <th>Current Cwhiteit Balance</th>\n",
       "      <th>Maximum Open Cwhiteit</th>\n",
       "      <th>Bankruptcies</th>\n",
       "      <th>Tax Liens</th>\n",
       "    </tr>\n",
       "  </thead>\n",
       "  <tbody>\n",
       "    <tr>\n",
       "      <th>0</th>\n",
       "      <td>Fully Paid</td>\n",
       "      <td>445412.0</td>\n",
       "      <td>Short Term</td>\n",
       "      <td>709.0</td>\n",
       "      <td>1167493.0</td>\n",
       "      <td>Home Mortgage</td>\n",
       "      <td>5214.74</td>\n",
       "      <td>17.2</td>\n",
       "      <td>NaN</td>\n",
       "      <td>6.0</td>\n",
       "      <td>1.0</td>\n",
       "      <td>228190.0</td>\n",
       "      <td>416746.0</td>\n",
       "      <td>1.0</td>\n",
       "      <td>0.0</td>\n",
       "    </tr>\n",
       "    <tr>\n",
       "      <th>1</th>\n",
       "      <td>Fully Paid</td>\n",
       "      <td>262328.0</td>\n",
       "      <td>Short Term</td>\n",
       "      <td>NaN</td>\n",
       "      <td>NaN</td>\n",
       "      <td>Home Mortgage</td>\n",
       "      <td>33295.98</td>\n",
       "      <td>21.1</td>\n",
       "      <td>8.0</td>\n",
       "      <td>35.0</td>\n",
       "      <td>0.0</td>\n",
       "      <td>229976.0</td>\n",
       "      <td>850784.0</td>\n",
       "      <td>0.0</td>\n",
       "      <td>0.0</td>\n",
       "    </tr>\n",
       "    <tr>\n",
       "      <th>2</th>\n",
       "      <td>Fully Paid</td>\n",
       "      <td>99999999.0</td>\n",
       "      <td>Short Term</td>\n",
       "      <td>741.0</td>\n",
       "      <td>2231892.0</td>\n",
       "      <td>Own Home</td>\n",
       "      <td>29200.53</td>\n",
       "      <td>14.9</td>\n",
       "      <td>29.0</td>\n",
       "      <td>18.0</td>\n",
       "      <td>1.0</td>\n",
       "      <td>297996.0</td>\n",
       "      <td>750090.0</td>\n",
       "      <td>0.0</td>\n",
       "      <td>0.0</td>\n",
       "    </tr>\n",
       "    <tr>\n",
       "      <th>3</th>\n",
       "      <td>Fully Paid</td>\n",
       "      <td>347666.0</td>\n",
       "      <td>Long Term</td>\n",
       "      <td>721.0</td>\n",
       "      <td>806949.0</td>\n",
       "      <td>Own Home</td>\n",
       "      <td>8741.90</td>\n",
       "      <td>12.0</td>\n",
       "      <td>NaN</td>\n",
       "      <td>9.0</td>\n",
       "      <td>0.0</td>\n",
       "      <td>256329.0</td>\n",
       "      <td>386958.0</td>\n",
       "      <td>0.0</td>\n",
       "      <td>0.0</td>\n",
       "    </tr>\n",
       "    <tr>\n",
       "      <th>4</th>\n",
       "      <td>Fully Paid</td>\n",
       "      <td>176220.0</td>\n",
       "      <td>Short Term</td>\n",
       "      <td>NaN</td>\n",
       "      <td>NaN</td>\n",
       "      <td>Rent</td>\n",
       "      <td>20639.70</td>\n",
       "      <td>6.1</td>\n",
       "      <td>NaN</td>\n",
       "      <td>15.0</td>\n",
       "      <td>0.0</td>\n",
       "      <td>253460.0</td>\n",
       "      <td>427174.0</td>\n",
       "      <td>0.0</td>\n",
       "      <td>0.0</td>\n",
       "    </tr>\n",
       "    <tr>\n",
       "      <th>...</th>\n",
       "      <td>...</td>\n",
       "      <td>...</td>\n",
       "      <td>...</td>\n",
       "      <td>...</td>\n",
       "      <td>...</td>\n",
       "      <td>...</td>\n",
       "      <td>...</td>\n",
       "      <td>...</td>\n",
       "      <td>...</td>\n",
       "      <td>...</td>\n",
       "      <td>...</td>\n",
       "      <td>...</td>\n",
       "      <td>...</td>\n",
       "      <td>...</td>\n",
       "      <td>...</td>\n",
       "    </tr>\n",
       "    <tr>\n",
       "      <th>99995</th>\n",
       "      <td>Fully Paid</td>\n",
       "      <td>147070.0</td>\n",
       "      <td>Short Term</td>\n",
       "      <td>725.0</td>\n",
       "      <td>475437.0</td>\n",
       "      <td>Own Home</td>\n",
       "      <td>2202.86</td>\n",
       "      <td>22.3</td>\n",
       "      <td>NaN</td>\n",
       "      <td>5.0</td>\n",
       "      <td>0.0</td>\n",
       "      <td>47766.0</td>\n",
       "      <td>658548.0</td>\n",
       "      <td>0.0</td>\n",
       "      <td>0.0</td>\n",
       "    </tr>\n",
       "    <tr>\n",
       "      <th>99996</th>\n",
       "      <td>Fully Paid</td>\n",
       "      <td>99999999.0</td>\n",
       "      <td>Short Term</td>\n",
       "      <td>732.0</td>\n",
       "      <td>1289416.0</td>\n",
       "      <td>Rent</td>\n",
       "      <td>13109.05</td>\n",
       "      <td>9.4</td>\n",
       "      <td>21.0</td>\n",
       "      <td>22.0</td>\n",
       "      <td>0.0</td>\n",
       "      <td>153045.0</td>\n",
       "      <td>509234.0</td>\n",
       "      <td>0.0</td>\n",
       "      <td>0.0</td>\n",
       "    </tr>\n",
       "    <tr>\n",
       "      <th>99997</th>\n",
       "      <td>Fully Paid</td>\n",
       "      <td>103136.0</td>\n",
       "      <td>Short Term</td>\n",
       "      <td>742.0</td>\n",
       "      <td>1150545.0</td>\n",
       "      <td>Rent</td>\n",
       "      <td>7315.57</td>\n",
       "      <td>18.8</td>\n",
       "      <td>18.0</td>\n",
       "      <td>12.0</td>\n",
       "      <td>1.0</td>\n",
       "      <td>109554.0</td>\n",
       "      <td>537548.0</td>\n",
       "      <td>1.0</td>\n",
       "      <td>0.0</td>\n",
       "    </tr>\n",
       "    <tr>\n",
       "      <th>99998</th>\n",
       "      <td>Fully Paid</td>\n",
       "      <td>530332.0</td>\n",
       "      <td>Short Term</td>\n",
       "      <td>746.0</td>\n",
       "      <td>1717524.0</td>\n",
       "      <td>Rent</td>\n",
       "      <td>9890.07</td>\n",
       "      <td>15.0</td>\n",
       "      <td>NaN</td>\n",
       "      <td>8.0</td>\n",
       "      <td>0.0</td>\n",
       "      <td>404225.0</td>\n",
       "      <td>738254.0</td>\n",
       "      <td>0.0</td>\n",
       "      <td>0.0</td>\n",
       "    </tr>\n",
       "    <tr>\n",
       "      <th>99999</th>\n",
       "      <td>Fully Paid</td>\n",
       "      <td>99999999.0</td>\n",
       "      <td>Short Term</td>\n",
       "      <td>743.0</td>\n",
       "      <td>935180.0</td>\n",
       "      <td>Own Home</td>\n",
       "      <td>9118.10</td>\n",
       "      <td>13.0</td>\n",
       "      <td>NaN</td>\n",
       "      <td>4.0</td>\n",
       "      <td>1.0</td>\n",
       "      <td>45600.0</td>\n",
       "      <td>91014.0</td>\n",
       "      <td>1.0</td>\n",
       "      <td>0.0</td>\n",
       "    </tr>\n",
       "  </tbody>\n",
       "</table>\n",
       "<p>100000 rows × 15 columns</p>\n",
       "</div>"
      ],
      "text/plain": [
       "      Loan Status  Current Loan Amount        Term  Cwhiteit Score  \\\n",
       "0      Fully Paid             445412.0  Short Term         709.0   \n",
       "1      Fully Paid             262328.0  Short Term           NaN   \n",
       "2      Fully Paid           99999999.0  Short Term         741.0   \n",
       "3      Fully Paid             347666.0   Long Term         721.0   \n",
       "4      Fully Paid             176220.0  Short Term           NaN   \n",
       "...           ...                  ...         ...           ...   \n",
       "99995  Fully Paid             147070.0  Short Term         725.0   \n",
       "99996  Fully Paid           99999999.0  Short Term         732.0   \n",
       "99997  Fully Paid             103136.0  Short Term         742.0   \n",
       "99998  Fully Paid             530332.0  Short Term         746.0   \n",
       "99999  Fully Paid           99999999.0  Short Term         743.0   \n",
       "\n",
       "       Annual Income Home Ownership  Monthly Debt  Years of Cwhiteit History  \\\n",
       "0          1167493.0  Home Mortgage       5214.74                     17.2   \n",
       "1                NaN  Home Mortgage      33295.98                     21.1   \n",
       "2          2231892.0       Own Home      29200.53                     14.9   \n",
       "3           806949.0       Own Home       8741.90                     12.0   \n",
       "4                NaN           Rent      20639.70                      6.1   \n",
       "...              ...            ...           ...                      ...   \n",
       "99995       475437.0       Own Home       2202.86                     22.3   \n",
       "99996      1289416.0           Rent      13109.05                      9.4   \n",
       "99997      1150545.0           Rent       7315.57                     18.8   \n",
       "99998      1717524.0           Rent       9890.07                     15.0   \n",
       "99999       935180.0       Own Home       9118.10                     13.0   \n",
       "\n",
       "       Months since last delinquent  Number of Open Accounts  \\\n",
       "0                               NaN                      6.0   \n",
       "1                               8.0                     35.0   \n",
       "2                              29.0                     18.0   \n",
       "3                               NaN                      9.0   \n",
       "4                               NaN                     15.0   \n",
       "...                             ...                      ...   \n",
       "99995                           NaN                      5.0   \n",
       "99996                          21.0                     22.0   \n",
       "99997                          18.0                     12.0   \n",
       "99998                           NaN                      8.0   \n",
       "99999                           NaN                      4.0   \n",
       "\n",
       "       Number of Cwhiteit Problems  Current Cwhiteit Balance  Maximum Open Cwhiteit  \\\n",
       "0                            1.0                228190.0             416746.0   \n",
       "1                            0.0                229976.0             850784.0   \n",
       "2                            1.0                297996.0             750090.0   \n",
       "3                            0.0                256329.0             386958.0   \n",
       "4                            0.0                253460.0             427174.0   \n",
       "...                          ...                     ...                  ...   \n",
       "99995                        0.0                 47766.0             658548.0   \n",
       "99996                        0.0                153045.0             509234.0   \n",
       "99997                        1.0                109554.0             537548.0   \n",
       "99998                        0.0                404225.0             738254.0   \n",
       "99999                        1.0                 45600.0              91014.0   \n",
       "\n",
       "       Bankruptcies  Tax Liens  \n",
       "0               1.0        0.0  \n",
       "1               0.0        0.0  \n",
       "2               0.0        0.0  \n",
       "3               0.0        0.0  \n",
       "4               0.0        0.0  \n",
       "...             ...        ...  \n",
       "99995           0.0        0.0  \n",
       "99996           0.0        0.0  \n",
       "99997           1.0        0.0  \n",
       "99998           0.0        0.0  \n",
       "99999           1.0        0.0  \n",
       "\n",
       "[100000 rows x 15 columns]"
      ]
     },
     "execution_count": 25,
     "metadata": {},
     "output_type": "execute_result"
    }
   ],
   "source": [
    "df"
   ]
  },
  {
   "cell_type": "code",
   "execution_count": 26,
   "id": "55f6d6f4",
   "metadata": {},
   "outputs": [
    {
     "data": {
      "text/plain": [
       "<AxesSubplot:>"
      ]
     },
     "execution_count": 26,
     "metadata": {},
     "output_type": "execute_result"
    },
    {
     "data": {
      "image/png": "[encoded data removed]",
      "text/plain": [
       "<Figure size 640x480 with 1 Axes>"
      ]
     },
     "metadata": {},
     "output_type": "display_data"
    }
   ],
   "source": [
    "sns.heatmap(df.isnull(), cbar = False,cmap = 'viridis')"
   ]
  },
  {
   "cell_type": "code",
   "execution_count": 27,
   "id": "11447b70",
   "metadata": {},
   "outputs": [
    {
     "data": {
      "text/html": [
       "<div>\n",
       "<style scoped>\n",
       "    .dataframe tbody tr th:only-of-type {\n",
       "        vertical-align: middle;\n",
       "    }\n",
       "\n",
       "    .dataframe tbody tr th {\n",
       "        vertical-align: top;\n",
       "    }\n",
       "\n",
       "    .dataframe thead th {\n",
       "        text-align: right;\n",
       "    }\n",
       "</style>\n",
       "<table border=\"1\" class=\"dataframe\">\n",
       "  <thead>\n",
       "    <tr style=\"text-align: right;\">\n",
       "      <th></th>\n",
       "      <th>Loan Status</th>\n",
       "      <th>Current Loan Amount</th>\n",
       "      <th>Term</th>\n",
       "      <th>Cwhiteit Score</th>\n",
       "      <th>Annual Income</th>\n",
       "      <th>Home Ownership</th>\n",
       "      <th>Monthly Debt</th>\n",
       "      <th>Years of Cwhiteit History</th>\n",
       "      <th>Number of Open Accounts</th>\n",
       "      <th>Number of Cwhiteit Problems</th>\n",
       "      <th>Current Cwhiteit Balance</th>\n",
       "      <th>Maximum Open Cwhiteit</th>\n",
       "      <th>Bankruptcies</th>\n",
       "      <th>Tax Liens</th>\n",
       "    </tr>\n",
       "  </thead>\n",
       "  <tbody>\n",
       "    <tr>\n",
       "      <th>0</th>\n",
       "      <td>Fully Paid</td>\n",
       "      <td>445412.0</td>\n",
       "      <td>Short Term</td>\n",
       "      <td>709.0</td>\n",
       "      <td>1167493.0</td>\n",
       "      <td>Home Mortgage</td>\n",
       "      <td>5214.74</td>\n",
       "      <td>17.2</td>\n",
       "      <td>6.0</td>\n",
       "      <td>1.0</td>\n",
       "      <td>228190.0</td>\n",
       "      <td>416746.0</td>\n",
       "      <td>1.0</td>\n",
       "      <td>0.0</td>\n",
       "    </tr>\n",
       "    <tr>\n",
       "      <th>1</th>\n",
       "      <td>Fully Paid</td>\n",
       "      <td>262328.0</td>\n",
       "      <td>Short Term</td>\n",
       "      <td>NaN</td>\n",
       "      <td>NaN</td>\n",
       "      <td>Home Mortgage</td>\n",
       "      <td>33295.98</td>\n",
       "      <td>21.1</td>\n",
       "      <td>35.0</td>\n",
       "      <td>0.0</td>\n",
       "      <td>229976.0</td>\n",
       "      <td>850784.0</td>\n",
       "      <td>0.0</td>\n",
       "      <td>0.0</td>\n",
       "    </tr>\n",
       "    <tr>\n",
       "      <th>2</th>\n",
       "      <td>Fully Paid</td>\n",
       "      <td>99999999.0</td>\n",
       "      <td>Short Term</td>\n",
       "      <td>741.0</td>\n",
       "      <td>2231892.0</td>\n",
       "      <td>Own Home</td>\n",
       "      <td>29200.53</td>\n",
       "      <td>14.9</td>\n",
       "      <td>18.0</td>\n",
       "      <td>1.0</td>\n",
       "      <td>297996.0</td>\n",
       "      <td>750090.0</td>\n",
       "      <td>0.0</td>\n",
       "      <td>0.0</td>\n",
       "    </tr>\n",
       "    <tr>\n",
       "      <th>3</th>\n",
       "      <td>Fully Paid</td>\n",
       "      <td>347666.0</td>\n",
       "      <td>Long Term</td>\n",
       "      <td>721.0</td>\n",
       "      <td>806949.0</td>\n",
       "      <td>Own Home</td>\n",
       "      <td>8741.90</td>\n",
       "      <td>12.0</td>\n",
       "      <td>9.0</td>\n",
       "      <td>0.0</td>\n",
       "      <td>256329.0</td>\n",
       "      <td>386958.0</td>\n",
       "      <td>0.0</td>\n",
       "      <td>0.0</td>\n",
       "    </tr>\n",
       "    <tr>\n",
       "      <th>4</th>\n",
       "      <td>Fully Paid</td>\n",
       "      <td>176220.0</td>\n",
       "      <td>Short Term</td>\n",
       "      <td>NaN</td>\n",
       "      <td>NaN</td>\n",
       "      <td>Rent</td>\n",
       "      <td>20639.70</td>\n",
       "      <td>6.1</td>\n",
       "      <td>15.0</td>\n",
       "      <td>0.0</td>\n",
       "      <td>253460.0</td>\n",
       "      <td>427174.0</td>\n",
       "      <td>0.0</td>\n",
       "      <td>0.0</td>\n",
       "    </tr>\n",
       "    <tr>\n",
       "      <th>...</th>\n",
       "      <td>...</td>\n",
       "      <td>...</td>\n",
       "      <td>...</td>\n",
       "      <td>...</td>\n",
       "      <td>...</td>\n",
       "      <td>...</td>\n",
       "      <td>...</td>\n",
       "      <td>...</td>\n",
       "      <td>...</td>\n",
       "      <td>...</td>\n",
       "      <td>...</td>\n",
       "      <td>...</td>\n",
       "      <td>...</td>\n",
       "      <td>...</td>\n",
       "    </tr>\n",
       "    <tr>\n",
       "      <th>99995</th>\n",
       "      <td>Fully Paid</td>\n",
       "      <td>147070.0</td>\n",
       "      <td>Short Term</td>\n",
       "      <td>725.0</td>\n",
       "      <td>475437.0</td>\n",
       "      <td>Own Home</td>\n",
       "      <td>2202.86</td>\n",
       "      <td>22.3</td>\n",
       "      <td>5.0</td>\n",
       "      <td>0.0</td>\n",
       "      <td>47766.0</td>\n",
       "      <td>658548.0</td>\n",
       "      <td>0.0</td>\n",
       "      <td>0.0</td>\n",
       "    </tr>\n",
       "    <tr>\n",
       "      <th>99996</th>\n",
       "      <td>Fully Paid</td>\n",
       "      <td>99999999.0</td>\n",
       "      <td>Short Term</td>\n",
       "      <td>732.0</td>\n",
       "      <td>1289416.0</td>\n",
       "      <td>Rent</td>\n",
       "      <td>13109.05</td>\n",
       "      <td>9.4</td>\n",
       "      <td>22.0</td>\n",
       "      <td>0.0</td>\n",
       "      <td>153045.0</td>\n",
       "      <td>509234.0</td>\n",
       "      <td>0.0</td>\n",
       "      <td>0.0</td>\n",
       "    </tr>\n",
       "    <tr>\n",
       "      <th>99997</th>\n",
       "      <td>Fully Paid</td>\n",
       "      <td>103136.0</td>\n",
       "      <td>Short Term</td>\n",
       "      <td>742.0</td>\n",
       "      <td>1150545.0</td>\n",
       "      <td>Rent</td>\n",
       "      <td>7315.57</td>\n",
       "      <td>18.8</td>\n",
       "      <td>12.0</td>\n",
       "      <td>1.0</td>\n",
       "      <td>109554.0</td>\n",
       "      <td>537548.0</td>\n",
       "      <td>1.0</td>\n",
       "      <td>0.0</td>\n",
       "    </tr>\n",
       "    <tr>\n",
       "      <th>99998</th>\n",
       "      <td>Fully Paid</td>\n",
       "      <td>530332.0</td>\n",
       "      <td>Short Term</td>\n",
       "      <td>746.0</td>\n",
       "      <td>1717524.0</td>\n",
       "      <td>Rent</td>\n",
       "      <td>9890.07</td>\n",
       "      <td>15.0</td>\n",
       "      <td>8.0</td>\n",
       "      <td>0.0</td>\n",
       "      <td>404225.0</td>\n",
       "      <td>738254.0</td>\n",
       "      <td>0.0</td>\n",
       "      <td>0.0</td>\n",
       "    </tr>\n",
       "    <tr>\n",
       "      <th>99999</th>\n",
       "      <td>Fully Paid</td>\n",
       "      <td>99999999.0</td>\n",
       "      <td>Short Term</td>\n",
       "      <td>743.0</td>\n",
       "      <td>935180.0</td>\n",
       "      <td>Own Home</td>\n",
       "      <td>9118.10</td>\n",
       "      <td>13.0</td>\n",
       "      <td>4.0</td>\n",
       "      <td>1.0</td>\n",
       "      <td>45600.0</td>\n",
       "      <td>91014.0</td>\n",
       "      <td>1.0</td>\n",
       "      <td>0.0</td>\n",
       "    </tr>\n",
       "  </tbody>\n",
       "</table>\n",
       "<p>100000 rows × 14 columns</p>\n",
       "</div>"
      ],
      "text/plain": [
       "      Loan Status  Current Loan Amount        Term  Cwhiteit Score  \\\n",
       "0      Fully Paid             445412.0  Short Term         709.0   \n",
       "1      Fully Paid             262328.0  Short Term           NaN   \n",
       "2      Fully Paid           99999999.0  Short Term         741.0   \n",
       "3      Fully Paid             347666.0   Long Term         721.0   \n",
       "4      Fully Paid             176220.0  Short Term           NaN   \n",
       "...           ...                  ...         ...           ...   \n",
       "99995  Fully Paid             147070.0  Short Term         725.0   \n",
       "99996  Fully Paid           99999999.0  Short Term         732.0   \n",
       "99997  Fully Paid             103136.0  Short Term         742.0   \n",
       "99998  Fully Paid             530332.0  Short Term         746.0   \n",
       "99999  Fully Paid           99999999.0  Short Term         743.0   \n",
       "\n",
       "       Annual Income Home Ownership  Monthly Debt  Years of Cwhiteit History  \\\n",
       "0          1167493.0  Home Mortgage       5214.74                     17.2   \n",
       "1                NaN  Home Mortgage      33295.98                     21.1   \n",
       "2          2231892.0       Own Home      29200.53                     14.9   \n",
       "3           806949.0       Own Home       8741.90                     12.0   \n",
       "4                NaN           Rent      20639.70                      6.1   \n",
       "...              ...            ...           ...                      ...   \n",
       "99995       475437.0       Own Home       2202.86                     22.3   \n",
       "99996      1289416.0           Rent      13109.05                      9.4   \n",
       "99997      1150545.0           Rent       7315.57                     18.8   \n",
       "99998      1717524.0           Rent       9890.07                     15.0   \n",
       "99999       935180.0       Own Home       9118.10                     13.0   \n",
       "\n",
       "       Number of Open Accounts  Number of Cwhiteit Problems  \\\n",
       "0                          6.0                        1.0   \n",
       "1                         35.0                        0.0   \n",
       "2                         18.0                        1.0   \n",
       "3                          9.0                        0.0   \n",
       "4                         15.0                        0.0   \n",
       "...                        ...                        ...   \n",
       "99995                      5.0                        0.0   \n",
       "99996                     22.0                        0.0   \n",
       "99997                     12.0                        1.0   \n",
       "99998                      8.0                        0.0   \n",
       "99999                      4.0                        1.0   \n",
       "\n",
       "       Current Cwhiteit Balance  Maximum Open Cwhiteit  Bankruptcies  Tax Liens  \n",
       "0                    228190.0             416746.0           1.0        0.0  \n",
       "1                    229976.0             850784.0           0.0        0.0  \n",
       "2                    297996.0             750090.0           0.0        0.0  \n",
       "3                    256329.0             386958.0           0.0        0.0  \n",
       "4                    253460.0             427174.0           0.0        0.0  \n",
       "...                       ...                  ...           ...        ...  \n",
       "99995                 47766.0             658548.0           0.0        0.0  \n",
       "99996                153045.0             509234.0           0.0        0.0  \n",
       "99997                109554.0             537548.0           1.0        0.0  \n",
       "99998                404225.0             738254.0           0.0        0.0  \n",
       "99999                 45600.0              91014.0           1.0        0.0  \n",
       "\n",
       "[100000 rows x 14 columns]"
      ]
     },
     "execution_count": 27,
     "metadata": {},
     "output_type": "execute_result"
    }
   ],
   "source": [
    "df.drop('Months since last delinquent',inplace = True , axis = 1)\n",
    "df"
   ]
  },
  {
   "cell_type": "code",
   "execution_count": 28,
   "id": "58dbe8eb",
   "metadata": {},
   "outputs": [
    {
     "data": {
      "text/plain": [
       "Loan Status                      0\n",
       "Current Loan Amount              0\n",
       "Term                             0\n",
       "Cwhiteit Score                 19154\n",
       "Annual Income                19154\n",
       "Home Ownership                   0\n",
       "Monthly Debt                     0\n",
       "Years of Cwhiteit History          0\n",
       "Number of Open Accounts          0\n",
       "Number of Cwhiteit Problems        0\n",
       "Current Cwhiteit Balance           0\n",
       "Maximum Open Cwhiteit              2\n",
       "Bankruptcies                   204\n",
       "Tax Liens                       10\n",
       "dtype: int64"
      ]
     },
     "execution_count": 28,
     "metadata": {},
     "output_type": "execute_result"
    }
   ],
   "source": [
    "missing_values(df)"
   ]
  },
  {
   "cell_type": "code",
   "execution_count": 29,
   "id": "90d6b7cc",
   "metadata": {},
   "outputs": [
    {
     "data": {
      "text/plain": [
       "array([ 1.,  0.,  2.,  3., nan,  5.,  4.,  7.,  6.])"
      ]
     },
     "execution_count": 29,
     "metadata": {},
     "output_type": "execute_result"
    }
   ],
   "source": [
    "df['Bankruptcies'].unique()"
   ]
  },
  {
   "cell_type": "code",
   "execution_count": 30,
   "id": "85e55177",
   "metadata": {},
   "outputs": [
    {
     "data": {
      "text/plain": [
       "array([ 0.,  1.,  2.,  4.,  3.,  6.,  5., nan, 11., 15.,  9.,  7., 10.])"
      ]
     },
     "execution_count": 30,
     "metadata": {},
     "output_type": "execute_result"
    }
   ],
   "source": [
    "df['Tax Liens'].unique()"
   ]
  },
  {
   "cell_type": "code",
   "execution_count": 31,
   "id": "df180e29",
   "metadata": {},
   "outputs": [
    {
     "data": {
      "text/plain": [
       "array([ 416746.,  850784.,  750090., ..., 1287792., 2299198.,  892606.])"
      ]
     },
     "execution_count": 31,
     "metadata": {},
     "output_type": "execute_result"
    }
   ],
   "source": [
    "df['Maximum Open Cwhiteit'].unique()"
   ]
  },
  {
   "cell_type": "code",
   "execution_count": 32,
   "id": "d4b90591",
   "metadata": {},
   "outputs": [],
   "source": [
    "N_cols = df[['Cwhiteit Score','Annual Income','Bankruptcies','Tax Liens','Maximum Open Cwhiteit']]\n",
    "for i in N_cols:\n",
    "    df[i].fillna(df[i].mean(axis = 0) , inplace = True)"
   ]
  },
  {
   "cell_type": "raw",
   "id": "702a8bdc",
   "metadata": {},
   "source": [
    "df['Cwhiteit Score'].fillna(df['Cwhiteit Score'].mean(),inplace = True)\n",
    "df['Annual Income'].fillna(df['Annual Income'].mean(),inplace = True)\n",
    "df['Maximum Open Cwhiteit'].fillna(df['Maximum Open Cwhiteit'].mean(),inplace = True)\n",
    "df['Bankruptcies'].fillna(df['Bankruptcies'].mean(),inplace = True)\n",
    "df['Tax Liens'].fillna(df['Tax Liens'].mean(),inplace = True)"
   ]
  },
  {
   "cell_type": "code",
   "execution_count": 33,
   "id": "5fc00123",
   "metadata": {},
   "outputs": [
    {
     "data": {
      "text/plain": [
       "Loan Status                  0\n",
       "Current Loan Amount          0\n",
       "Term                         0\n",
       "Cwhiteit Score                 0\n",
       "Annual Income                0\n",
       "Home Ownership               0\n",
       "Monthly Debt                 0\n",
       "Years of Cwhiteit History      0\n",
       "Number of Open Accounts      0\n",
       "Number of Cwhiteit Problems    0\n",
       "Current Cwhiteit Balance       0\n",
       "Maximum Open Cwhiteit          0\n",
       "Bankruptcies                 0\n",
       "Tax Liens                    0\n",
       "dtype: int64"
      ]
     },
     "execution_count": 33,
     "metadata": {},
     "output_type": "execute_result"
    }
   ],
   "source": [
    "missing_values(df)"
   ]
  },
  {
   "cell_type": "code",
   "execution_count": 34,
   "id": "4428757d",
   "metadata": {},
   "outputs": [
    {
     "data": {
      "text/plain": [
       "array(['Fully Paid', 'Charged Off'], dtype=object)"
      ]
     },
     "execution_count": 34,
     "metadata": {},
     "output_type": "execute_result"
    }
   ],
   "source": [
    "df['Loan Status'].unique()"
   ]
  },
  {
   "cell_type": "code",
   "execution_count": 35,
   "id": "2f5e6771",
   "metadata": {},
   "outputs": [],
   "source": [
    "def bar_chart(col):\n",
    "    Approved = df[df['Loan Status'] == 'Fully Paid'][col].value_counts()\n",
    "    Disapproved = df[df['Loan Status'] == 'Charged Off'][col].value_counts()\n",
    "    \n",
    "    df1 = pd.DataFrame([Approved,Disapproved])\n",
    "    df1.index = ['Approved' , 'Disapproved']\n",
    "    df1.plot(kind = 'bar')"
   ]
  },
  {
   "cell_type": "raw",
   "id": "8d233f40",
   "metadata": {},
   "source": [
    "Approved = df[df['Loan Status'] == 'Fully Paid']['Term'].value_counts()\n",
    "Disapproved = df[df['Loan Status'] == 'Charged Off']['Term'].value_counts()\n",
    "    \n",
    "df1 = pd.DataFrame([Approved,Disapproved])\n",
    "df1.index = ['Approved' , 'Disapproved']\n",
    "df1.plot(kind = 'bar')"
   ]
  },
  {
   "cell_type": "code",
   "execution_count": 36,
   "id": "2374325e",
   "metadata": {},
   "outputs": [],
   "source": [
    "#%matplotlib inline"
   ]
  },
  {
   "cell_type": "code",
   "execution_count": 37,
   "id": "e62d6329",
   "metadata": {},
   "outputs": [
    {
     "data": {
      "image/png": "[encoded data removed]",
      "text/plain": [
       "<Figure size 640x480 with 1 Axes>"
      ]
     },
     "metadata": {},
     "output_type": "display_data"
    }
   ],
   "source": [
    "bar_chart('Term')"
   ]
  },
  {
   "cell_type": "code",
   "execution_count": 38,
   "id": "e443d3bb",
   "metadata": {},
   "outputs": [
    {
     "data": {
      "image/png": "[encoded data removed]",
      "text/plain": [
       "<Figure size 640x480 with 1 Axes>"
      ]
     },
     "metadata": {},
     "output_type": "display_data"
    }
   ],
   "source": [
    "bar_chart('Home Ownership')"
   ]
  },
  {
   "cell_type": "code",
   "execution_count": 39,
   "id": "32fa6256",
   "metadata": {},
   "outputs": [
    {
     "data": {
      "image/png": "[encoded data removed]",
      "text/plain": [
       "<Figure size 640x480 with 1 Axes>"
      ]
     },
     "metadata": {},
     "output_type": "display_data"
    }
   ],
   "source": [
    "bar_chart('Loan Status')"
   ]
  },
  {
   "cell_type": "code",
   "execution_count": 40,
   "id": "ce363611",
   "metadata": {},
   "outputs": [
    {
     "data": {
      "text/html": [
       "<div>\n",
       "<style scoped>\n",
       "    .dataframe tbody tr th:only-of-type {\n",
       "        vertical-align: middle;\n",
       "    }\n",
       "\n",
       "    .dataframe tbody tr th {\n",
       "        vertical-align: top;\n",
       "    }\n",
       "\n",
       "    .dataframe thead th {\n",
       "        text-align: right;\n",
       "    }\n",
       "</style>\n",
       "<table border=\"1\" class=\"dataframe\">\n",
       "  <thead>\n",
       "    <tr style=\"text-align: right;\">\n",
       "      <th></th>\n",
       "      <th>Loan Status</th>\n",
       "      <th>Current Loan Amount</th>\n",
       "      <th>Term</th>\n",
       "      <th>Cwhiteit Score</th>\n",
       "      <th>Annual Income</th>\n",
       "      <th>Home Ownership</th>\n",
       "      <th>Monthly Debt</th>\n",
       "      <th>Years of Cwhiteit History</th>\n",
       "      <th>Number of Open Accounts</th>\n",
       "      <th>Number of Cwhiteit Problems</th>\n",
       "      <th>Current Cwhiteit Balance</th>\n",
       "      <th>Maximum Open Cwhiteit</th>\n",
       "      <th>Bankruptcies</th>\n",
       "      <th>Tax Liens</th>\n",
       "    </tr>\n",
       "  </thead>\n",
       "  <tbody>\n",
       "    <tr>\n",
       "      <th>0</th>\n",
       "      <td>1.0</td>\n",
       "      <td>445412.0</td>\n",
       "      <td>1.0</td>\n",
       "      <td>709.000000</td>\n",
       "      <td>1.167493e+06</td>\n",
       "      <td>1.0</td>\n",
       "      <td>5214.74</td>\n",
       "      <td>17.2</td>\n",
       "      <td>6.0</td>\n",
       "      <td>1.0</td>\n",
       "      <td>228190.0</td>\n",
       "      <td>416746.0</td>\n",
       "      <td>1.0</td>\n",
       "      <td>0.0</td>\n",
       "    </tr>\n",
       "    <tr>\n",
       "      <th>1</th>\n",
       "      <td>1.0</td>\n",
       "      <td>262328.0</td>\n",
       "      <td>1.0</td>\n",
       "      <td>1076.456089</td>\n",
       "      <td>1.378277e+06</td>\n",
       "      <td>1.0</td>\n",
       "      <td>33295.98</td>\n",
       "      <td>21.1</td>\n",
       "      <td>35.0</td>\n",
       "      <td>0.0</td>\n",
       "      <td>229976.0</td>\n",
       "      <td>850784.0</td>\n",
       "      <td>0.0</td>\n",
       "      <td>0.0</td>\n",
       "    </tr>\n",
       "    <tr>\n",
       "      <th>2</th>\n",
       "      <td>1.0</td>\n",
       "      <td>99999999.0</td>\n",
       "      <td>1.0</td>\n",
       "      <td>741.000000</td>\n",
       "      <td>2.231892e+06</td>\n",
       "      <td>2.0</td>\n",
       "      <td>29200.53</td>\n",
       "      <td>14.9</td>\n",
       "      <td>18.0</td>\n",
       "      <td>1.0</td>\n",
       "      <td>297996.0</td>\n",
       "      <td>750090.0</td>\n",
       "      <td>0.0</td>\n",
       "      <td>0.0</td>\n",
       "    </tr>\n",
       "    <tr>\n",
       "      <th>3</th>\n",
       "      <td>1.0</td>\n",
       "      <td>347666.0</td>\n",
       "      <td>0.0</td>\n",
       "      <td>721.000000</td>\n",
       "      <td>8.069490e+05</td>\n",
       "      <td>2.0</td>\n",
       "      <td>8741.90</td>\n",
       "      <td>12.0</td>\n",
       "      <td>9.0</td>\n",
       "      <td>0.0</td>\n",
       "      <td>256329.0</td>\n",
       "      <td>386958.0</td>\n",
       "      <td>0.0</td>\n",
       "      <td>0.0</td>\n",
       "    </tr>\n",
       "    <tr>\n",
       "      <th>4</th>\n",
       "      <td>1.0</td>\n",
       "      <td>176220.0</td>\n",
       "      <td>1.0</td>\n",
       "      <td>1076.456089</td>\n",
       "      <td>1.378277e+06</td>\n",
       "      <td>3.0</td>\n",
       "      <td>20639.70</td>\n",
       "      <td>6.1</td>\n",
       "      <td>15.0</td>\n",
       "      <td>0.0</td>\n",
       "      <td>253460.0</td>\n",
       "      <td>427174.0</td>\n",
       "      <td>0.0</td>\n",
       "      <td>0.0</td>\n",
       "    </tr>\n",
       "  </tbody>\n",
       "</table>\n",
       "</div>"
      ],
      "text/plain": [
       "   Loan Status  Current Loan Amount  Term  Cwhiteit Score  Annual Income  \\\n",
       "0          1.0             445412.0   1.0    709.000000   1.167493e+06   \n",
       "1          1.0             262328.0   1.0   1076.456089   1.378277e+06   \n",
       "2          1.0           99999999.0   1.0    741.000000   2.231892e+06   \n",
       "3          1.0             347666.0   0.0    721.000000   8.069490e+05   \n",
       "4          1.0             176220.0   1.0   1076.456089   1.378277e+06   \n",
       "\n",
       "   Home Ownership  Monthly Debt  Years of Cwhiteit History  \\\n",
       "0             1.0       5214.74                     17.2   \n",
       "1             1.0      33295.98                     21.1   \n",
       "2             2.0      29200.53                     14.9   \n",
       "3             2.0       8741.90                     12.0   \n",
       "4             3.0      20639.70                      6.1   \n",
       "\n",
       "   Number of Open Accounts  Number of Cwhiteit Problems  Current Cwhiteit Balance  \\\n",
       "0                      6.0                        1.0                228190.0   \n",
       "1                     35.0                        0.0                229976.0   \n",
       "2                     18.0                        1.0                297996.0   \n",
       "3                      9.0                        0.0                256329.0   \n",
       "4                     15.0                        0.0                253460.0   \n",
       "\n",
       "   Maximum Open Cwhiteit  Bankruptcies  Tax Liens  \n",
       "0             416746.0           1.0        0.0  \n",
       "1             850784.0           0.0        0.0  \n",
       "2             750090.0           0.0        0.0  \n",
       "3             386958.0           0.0        0.0  \n",
       "4             427174.0           0.0        0.0  "
      ]
     },
     "execution_count": 40,
     "metadata": {},
     "output_type": "execute_result"
    }
   ],
   "source": [
    "from sklearn.preprocessing import OrdinalEncoder\n",
    "\n",
    "ord_enc = OrdinalEncoder()\n",
    "\n",
    "df[['Loan Status','Term','Home Ownership']] = ord_enc.fit_transform(df[['Loan Status','Term','Home Ownership']])\n",
    "df.head()"
   ]
  },
  {
   "cell_type": "code",
   "execution_count": 41,
   "id": "52a363ae",
   "metadata": {},
   "outputs": [],
   "source": [
    "df[['Loan Status','Term','Home Ownership']] = df[['Loan Status','Term','Home Ownership']].astype('int')"
   ]
  },
  {
   "cell_type": "code",
   "execution_count": 42,
   "id": "ad9febbd",
   "metadata": {},
   "outputs": [
    {
     "data": {
      "text/html": [
       "<div>\n",
       "<style scoped>\n",
       "    .dataframe tbody tr th:only-of-type {\n",
       "        vertical-align: middle;\n",
       "    }\n",
       "\n",
       "    .dataframe tbody tr th {\n",
       "        vertical-align: top;\n",
       "    }\n",
       "\n",
       "    .dataframe thead th {\n",
       "        text-align: right;\n",
       "    }\n",
       "</style>\n",
       "<table border=\"1\" class=\"dataframe\">\n",
       "  <thead>\n",
       "    <tr style=\"text-align: right;\">\n",
       "      <th></th>\n",
       "      <th>Loan Status</th>\n",
       "      <th>Current Loan Amount</th>\n",
       "      <th>Term</th>\n",
       "      <th>Cwhiteit Score</th>\n",
       "      <th>Annual Income</th>\n",
       "      <th>Home Ownership</th>\n",
       "      <th>Monthly Debt</th>\n",
       "      <th>Years of Cwhiteit History</th>\n",
       "      <th>Number of Open Accounts</th>\n",
       "      <th>Number of Cwhiteit Problems</th>\n",
       "      <th>Current Cwhiteit Balance</th>\n",
       "      <th>Maximum Open Cwhiteit</th>\n",
       "      <th>Bankruptcies</th>\n",
       "      <th>Tax Liens</th>\n",
       "    </tr>\n",
       "  </thead>\n",
       "  <tbody>\n",
       "    <tr>\n",
       "      <th>0</th>\n",
       "      <td>1</td>\n",
       "      <td>445412.0</td>\n",
       "      <td>1</td>\n",
       "      <td>709.000000</td>\n",
       "      <td>1.167493e+06</td>\n",
       "      <td>1</td>\n",
       "      <td>5214.74</td>\n",
       "      <td>17.2</td>\n",
       "      <td>6.0</td>\n",
       "      <td>1.0</td>\n",
       "      <td>228190.0</td>\n",
       "      <td>416746.0</td>\n",
       "      <td>1.0</td>\n",
       "      <td>0.0</td>\n",
       "    </tr>\n",
       "    <tr>\n",
       "      <th>1</th>\n",
       "      <td>1</td>\n",
       "      <td>262328.0</td>\n",
       "      <td>1</td>\n",
       "      <td>1076.456089</td>\n",
       "      <td>1.378277e+06</td>\n",
       "      <td>1</td>\n",
       "      <td>33295.98</td>\n",
       "      <td>21.1</td>\n",
       "      <td>35.0</td>\n",
       "      <td>0.0</td>\n",
       "      <td>229976.0</td>\n",
       "      <td>850784.0</td>\n",
       "      <td>0.0</td>\n",
       "      <td>0.0</td>\n",
       "    </tr>\n",
       "    <tr>\n",
       "      <th>2</th>\n",
       "      <td>1</td>\n",
       "      <td>99999999.0</td>\n",
       "      <td>1</td>\n",
       "      <td>741.000000</td>\n",
       "      <td>2.231892e+06</td>\n",
       "      <td>2</td>\n",
       "      <td>29200.53</td>\n",
       "      <td>14.9</td>\n",
       "      <td>18.0</td>\n",
       "      <td>1.0</td>\n",
       "      <td>297996.0</td>\n",
       "      <td>750090.0</td>\n",
       "      <td>0.0</td>\n",
       "      <td>0.0</td>\n",
       "    </tr>\n",
       "    <tr>\n",
       "      <th>3</th>\n",
       "      <td>1</td>\n",
       "      <td>347666.0</td>\n",
       "      <td>0</td>\n",
       "      <td>721.000000</td>\n",
       "      <td>8.069490e+05</td>\n",
       "      <td>2</td>\n",
       "      <td>8741.90</td>\n",
       "      <td>12.0</td>\n",
       "      <td>9.0</td>\n",
       "      <td>0.0</td>\n",
       "      <td>256329.0</td>\n",
       "      <td>386958.0</td>\n",
       "      <td>0.0</td>\n",
       "      <td>0.0</td>\n",
       "    </tr>\n",
       "    <tr>\n",
       "      <th>4</th>\n",
       "      <td>1</td>\n",
       "      <td>176220.0</td>\n",
       "      <td>1</td>\n",
       "      <td>1076.456089</td>\n",
       "      <td>1.378277e+06</td>\n",
       "      <td>3</td>\n",
       "      <td>20639.70</td>\n",
       "      <td>6.1</td>\n",
       "      <td>15.0</td>\n",
       "      <td>0.0</td>\n",
       "      <td>253460.0</td>\n",
       "      <td>427174.0</td>\n",
       "      <td>0.0</td>\n",
       "      <td>0.0</td>\n",
       "    </tr>\n",
       "    <tr>\n",
       "      <th>...</th>\n",
       "      <td>...</td>\n",
       "      <td>...</td>\n",
       "      <td>...</td>\n",
       "      <td>...</td>\n",
       "      <td>...</td>\n",
       "      <td>...</td>\n",
       "      <td>...</td>\n",
       "      <td>...</td>\n",
       "      <td>...</td>\n",
       "      <td>...</td>\n",
       "      <td>...</td>\n",
       "      <td>...</td>\n",
       "      <td>...</td>\n",
       "      <td>...</td>\n",
       "    </tr>\n",
       "    <tr>\n",
       "      <th>99995</th>\n",
       "      <td>1</td>\n",
       "      <td>147070.0</td>\n",
       "      <td>1</td>\n",
       "      <td>725.000000</td>\n",
       "      <td>4.754370e+05</td>\n",
       "      <td>2</td>\n",
       "      <td>2202.86</td>\n",
       "      <td>22.3</td>\n",
       "      <td>5.0</td>\n",
       "      <td>0.0</td>\n",
       "      <td>47766.0</td>\n",
       "      <td>658548.0</td>\n",
       "      <td>0.0</td>\n",
       "      <td>0.0</td>\n",
       "    </tr>\n",
       "    <tr>\n",
       "      <th>99996</th>\n",
       "      <td>1</td>\n",
       "      <td>99999999.0</td>\n",
       "      <td>1</td>\n",
       "      <td>732.000000</td>\n",
       "      <td>1.289416e+06</td>\n",
       "      <td>3</td>\n",
       "      <td>13109.05</td>\n",
       "      <td>9.4</td>\n",
       "      <td>22.0</td>\n",
       "      <td>0.0</td>\n",
       "      <td>153045.0</td>\n",
       "      <td>509234.0</td>\n",
       "      <td>0.0</td>\n",
       "      <td>0.0</td>\n",
       "    </tr>\n",
       "    <tr>\n",
       "      <th>99997</th>\n",
       "      <td>1</td>\n",
       "      <td>103136.0</td>\n",
       "      <td>1</td>\n",
       "      <td>742.000000</td>\n",
       "      <td>1.150545e+06</td>\n",
       "      <td>3</td>\n",
       "      <td>7315.57</td>\n",
       "      <td>18.8</td>\n",
       "      <td>12.0</td>\n",
       "      <td>1.0</td>\n",
       "      <td>109554.0</td>\n",
       "      <td>537548.0</td>\n",
       "      <td>1.0</td>\n",
       "      <td>0.0</td>\n",
       "    </tr>\n",
       "    <tr>\n",
       "      <th>99998</th>\n",
       "      <td>1</td>\n",
       "      <td>530332.0</td>\n",
       "      <td>1</td>\n",
       "      <td>746.000000</td>\n",
       "      <td>1.717524e+06</td>\n",
       "      <td>3</td>\n",
       "      <td>9890.07</td>\n",
       "      <td>15.0</td>\n",
       "      <td>8.0</td>\n",
       "      <td>0.0</td>\n",
       "      <td>404225.0</td>\n",
       "      <td>738254.0</td>\n",
       "      <td>0.0</td>\n",
       "      <td>0.0</td>\n",
       "    </tr>\n",
       "    <tr>\n",
       "      <th>99999</th>\n",
       "      <td>1</td>\n",
       "      <td>99999999.0</td>\n",
       "      <td>1</td>\n",
       "      <td>743.000000</td>\n",
       "      <td>9.351800e+05</td>\n",
       "      <td>2</td>\n",
       "      <td>9118.10</td>\n",
       "      <td>13.0</td>\n",
       "      <td>4.0</td>\n",
       "      <td>1.0</td>\n",
       "      <td>45600.0</td>\n",
       "      <td>91014.0</td>\n",
       "      <td>1.0</td>\n",
       "      <td>0.0</td>\n",
       "    </tr>\n",
       "  </tbody>\n",
       "</table>\n",
       "<p>100000 rows × 14 columns</p>\n",
       "</div>"
      ],
      "text/plain": [
       "       Loan Status  Current Loan Amount  Term  Cwhiteit Score  Annual Income  \\\n",
       "0                1             445412.0     1    709.000000   1.167493e+06   \n",
       "1                1             262328.0     1   1076.456089   1.378277e+06   \n",
       "2                1           99999999.0     1    741.000000   2.231892e+06   \n",
       "3                1             347666.0     0    721.000000   8.069490e+05   \n",
       "4                1             176220.0     1   1076.456089   1.378277e+06   \n",
       "...            ...                  ...   ...           ...            ...   \n",
       "99995            1             147070.0     1    725.000000   4.754370e+05   \n",
       "99996            1           99999999.0     1    732.000000   1.289416e+06   \n",
       "99997            1             103136.0     1    742.000000   1.150545e+06   \n",
       "99998            1             530332.0     1    746.000000   1.717524e+06   \n",
       "99999            1           99999999.0     1    743.000000   9.351800e+05   \n",
       "\n",
       "       Home Ownership  Monthly Debt  Years of Cwhiteit History  \\\n",
       "0                   1       5214.74                     17.2   \n",
       "1                   1      33295.98                     21.1   \n",
       "2                   2      29200.53                     14.9   \n",
       "3                   2       8741.90                     12.0   \n",
       "4                   3      20639.70                      6.1   \n",
       "...               ...           ...                      ...   \n",
       "99995               2       2202.86                     22.3   \n",
       "99996               3      13109.05                      9.4   \n",
       "99997               3       7315.57                     18.8   \n",
       "99998               3       9890.07                     15.0   \n",
       "99999               2       9118.10                     13.0   \n",
       "\n",
       "       Number of Open Accounts  Number of Cwhiteit Problems  \\\n",
       "0                          6.0                        1.0   \n",
       "1                         35.0                        0.0   \n",
       "2                         18.0                        1.0   \n",
       "3                          9.0                        0.0   \n",
       "4                         15.0                        0.0   \n",
       "...                        ...                        ...   \n",
       "99995                      5.0                        0.0   \n",
       "99996                     22.0                        0.0   \n",
       "99997                     12.0                        1.0   \n",
       "99998                      8.0                        0.0   \n",
       "99999                      4.0                        1.0   \n",
       "\n",
       "       Current Cwhiteit Balance  Maximum Open Cwhiteit  Bankruptcies  Tax Liens  \n",
       "0                    228190.0             416746.0           1.0        0.0  \n",
       "1                    229976.0             850784.0           0.0        0.0  \n",
       "2                    297996.0             750090.0           0.0        0.0  \n",
       "3                    256329.0             386958.0           0.0        0.0  \n",
       "4                    253460.0             427174.0           0.0        0.0  \n",
       "...                       ...                  ...           ...        ...  \n",
       "99995                 47766.0             658548.0           0.0        0.0  \n",
       "99996                153045.0             509234.0           0.0        0.0  \n",
       "99997                109554.0             537548.0           1.0        0.0  \n",
       "99998                404225.0             738254.0           0.0        0.0  \n",
       "99999                 45600.0              91014.0           1.0        0.0  \n",
       "\n",
       "[100000 rows x 14 columns]"
      ]
     },
     "execution_count": 42,
     "metadata": {},
     "output_type": "execute_result"
    }
   ],
   "source": [
    "df"
   ]
  },
  {
   "cell_type": "code",
   "execution_count": 43,
   "id": "2705b951",
   "metadata": {},
   "outputs": [
    {
     "data": {
      "text/plain": [
       "<AxesSubplot:>"
      ]
     },
     "execution_count": 43,
     "metadata": {},
     "output_type": "execute_result"
    },
    {
     "data": {
      "image/png": "[encoded data removed]",
      "text/plain": [
       "<Figure size 640x480 with 2 Axes>"
      ]
     },
     "metadata": {},
     "output_type": "display_data"
    }
   ],
   "source": [
    "sns.heatmap(df.isnull() , yticklabels = False , cmap = 'viridis')"
   ]
  },
  {
   "cell_type": "code",
   "execution_count": 44,
   "id": "8af00c98",
   "metadata": {},
   "outputs": [],
   "source": [
    "X = df.drop('Loan Status',axis = 1)\n",
    "y = df['Loan Status']"
   ]
  },
  {
   "cell_type": "markdown",
   "id": "9dc5df97",
   "metadata": {},
   "source": [
    "## Finding Best Random State Number"
   ]
  },
  {
   "cell_type": "code",
   "execution_count": 45,
   "id": "9ebee67e",
   "metadata": {},
   "outputs": [],
   "source": [
    "from sklearn.model_selection import train_test_split\n",
    "from sklearn.linear_model import LogisticRegression\n",
    "from sklearn.metrics import accuracy_score\n",
    "from sklearn.model_selection import cross_val_score"
   ]
  },
  {
   "cell_type": "raw",
   "id": "bb1469e7",
   "metadata": {},
   "source": [
    "Train = []\n",
    "Test = []\n",
    "CV = []\n",
    "\n",
    "for i in range(0,101):\n",
    "    X_train ,X_test , y_train , y_test = train_test_split(X,y,test_size = 0.2 , random_state = i)\n",
    "    log_default = LogisticRegression()\n",
    "    log_default.fit(X_train,y_train)\n",
    "    ypwhite_train = log_default.pwhiteict(X_train)\n",
    "    ypwhite_test = log_default.pwhiteict(X_test)\n",
    "    Train.append(accuracy_score(ypwhite_train,y_train))\n",
    "    Test.append(accuracy_score(ypwhite_test,y_test))\n",
    "    CV.append(cross_val_score(log_default,X,y,cv = 5,scoring = 'accuracy').mean())\n",
    "    \n",
    "em = pd.DataFrame({'Train':Train,'Test':Test,'CV':CV})\n",
    "gm = em[abs(em['Train'] - em['Test'] <= 5) & abs(em['Test'] - em['CV'] <= 5)]\n",
    "\n",
    "print('The Best Random State Number for this Data Set is : ',gm[gm['Test'] == gm['Test'].max()].index.to_list()[0])"
   ]
  },
  {
   "cell_type": "markdown",
   "id": "dc4c2f7d",
   "metadata": {},
   "source": [
    "## The Best Random State Number is 76"
   ]
  },
  {
   "cell_type": "code",
   "execution_count": 46,
   "id": "2f7f5efb",
   "metadata": {},
   "outputs": [],
   "source": [
    "X_train ,X_test , y_train , y_test = train_test_split(X,y,test_size = 0.2 , random_state = 76)"
   ]
  },
  {
   "cell_type": "code",
   "execution_count": 47,
   "id": "37fb89c0",
   "metadata": {},
   "outputs": [
    {
     "name": "stdout",
     "output_type": "stream",
     "text": [
      "(80000, 13)\n",
      "(80000,)\n",
      "(20000, 13)\n",
      "(20000,)\n"
     ]
    }
   ],
   "source": [
    "print(X_train.shape)\n",
    "print(y_train.shape)\n",
    "print(X_test.shape)\n",
    "print(y_test.shape)"
   ]
  },
  {
   "cell_type": "code",
   "execution_count": 48,
   "id": "e41b1a55",
   "metadata": {},
   "outputs": [
    {
     "name": "stdout",
     "output_type": "stream",
     "text": [
      "Train Accuracy Score :  0.345475\n",
      "Test Accuracy Score :  0.33815\n",
      "\n",
      "Train Recall Score :  0.1530453647637859\n",
      "Test Recall Score :  0.15171529336325745\n",
      "\n",
      "Train Precision Score :  0.9948431909071774\n",
      "Test Precision Score :  0.9966301600673968\n",
      "\n",
      "Cross Validation Score :  0.34530999999999995\n"
     ]
    }
   ],
   "source": [
    "from sklearn.naive_bayes import GaussianNB\n",
    "GNB_Model = GaussianNB()\n",
    "GNB_Model.fit(X_train,y_train)\n",
    "\n",
    "ypwhite_train = GNB_Model.pwhiteict(X_train)\n",
    "ypwhite_test = GNB_Model.pwhiteict(X_test)\n",
    "\n",
    "from sklearn.metrics import accuracy_score\n",
    "print('Train Accuracy Score : ',accuracy_score(y_train,ypwhite_train))\n",
    "print('Test Accuracy Score : ',accuracy_score(y_test,ypwhite_test))\n",
    "print()\n",
    "\n",
    "from sklearn.metrics import recall_score\n",
    "print('Train Recall Score : ',recall_score(y_train,ypwhite_train))\n",
    "print('Test Recall Score : ',recall_score(y_test,ypwhite_test))\n",
    "print()\n",
    "\n",
    "from sklearn.metrics import precision_score\n",
    "print('Train Precision Score : ',precision_score(y_train,ypwhite_train))\n",
    "print('Test Precision Score : ',precision_score(y_test,ypwhite_test))\n",
    "print()\n",
    "\n",
    "from sklearn.model_selection import cross_val_score\n",
    "print('Cross Validation Score : ',(cross_val_score(GNB_Model,X,y,cv = 5)).mean())"
   ]
  },
  {
   "cell_type": "markdown",
   "id": "6cfa69b5",
   "metadata": {},
   "source": [
    "## Logistic Regression Algorithm with Default Parameters"
   ]
  },
  {
   "cell_type": "code",
   "execution_count": 49,
   "id": "1a2a2375",
   "metadata": {},
   "outputs": [
    {
     "name": "stdout",
     "output_type": "stream",
     "text": [
      "Train Accuracy Score :  0.81295\n",
      "Test Accuracy Score :  0.82255\n",
      "\n",
      "Train Recall Score :  0.9933296635689538\n",
      "Test Recall Score :  0.9939083039435717\n",
      "\n",
      "Train Precision Score :  0.8082891997997523\n",
      "Test Precision Score :  0.8177693362878548\n",
      "\n",
      "Cross Validation Score :  0.8150599999999999\n"
     ]
    }
   ],
   "source": [
    "from sklearn.linear_model import LogisticRegression\n",
    "LOG_Model = LogisticRegression()\n",
    "LOG_Model.fit(X_train,y_train)\n",
    "\n",
    "ypwhite_train = LOG_Model.pwhiteict(X_train)\n",
    "ypwhite_test = LOG_Model.pwhiteict(X_test)\n",
    "\n",
    "from sklearn.metrics import accuracy_score\n",
    "print('Train Accuracy Score : ',accuracy_score(y_train,ypwhite_train))\n",
    "print('Test Accuracy Score : ',accuracy_score(y_test,ypwhite_test))\n",
    "print()\n",
    "\n",
    "from sklearn.metrics import recall_score\n",
    "print('Train Recall Score : ',recall_score(y_train,ypwhite_train))\n",
    "print('Test Recall Score : ',recall_score(y_test,ypwhite_test))\n",
    "print()\n",
    "\n",
    "from sklearn.metrics import precision_score\n",
    "print('Train Precision Score : ',precision_score(y_train,ypwhite_train))\n",
    "print('Test Precision Score : ',precision_score(y_test,ypwhite_test))\n",
    "print()\n",
    "\n",
    "from sklearn.model_selection import cross_val_score\n",
    "print('Cross Validation Score : ',(cross_val_score(LOG_Model,X,y,cv = 5)).mean())"
   ]
  },
  {
   "cell_type": "markdown",
   "id": "560a3b05",
   "metadata": {},
   "source": [
    "## Hyperparameter Tuning ( LRA )"
   ]
  },
  {
   "cell_type": "code",
   "execution_count": 68,
   "id": "ab24ab3b",
   "metadata": {},
   "outputs": [
    {
     "name": "stdout",
     "output_type": "stream",
     "text": [
      "Fitting 3 folds for each of 1600 candidates, totalling 4800 fits\n"
     ]
    },
    {
     "data": {
      "text/plain": [
       "{'C': 0.004832930238571752,\n",
       " 'max_iter': 100,\n",
       " 'penalty': 'l1',\n",
       " 'solver': 'liblinear'}"
      ]
     },
     "execution_count": 68,
     "metadata": {},
     "output_type": "execute_result"
    }
   ],
   "source": [
    "param_grid = [{\n",
    "    'penalty' : ['l1' , 'l2' , 'elasticnet' , 'none'],\n",
    "    'C' : np.logspace(-4 , 4 , 20),\n",
    "    'solver' : ['lbfgs' , 'newton-cg' , 'liblinear' , 'sag' , 'saga'],\n",
    "    'max_iter' : [100 , 1000 , 2500 , 5000]\n",
    "     }\n",
    "]\n",
    "from sklearn.model_selection import GridSearchCV\n",
    "clf = GridSearchCV(LOG_Model , param_grid = param_grid , cv = 3 , verbose = True , n_jobs = -1)\n",
    "best_clf = clf.fit(X,y)\n",
    "best_clf.best_params_"
   ]
  },
  {
   "cell_type": "markdown",
   "id": "b210b1da",
   "metadata": {},
   "source": [
    "## Logistic Regression Algorithm with Hyperparameter Tuning"
   ]
  },
  {
   "cell_type": "code",
   "execution_count": 50,
   "id": "de0090f2",
   "metadata": {},
   "outputs": [
    {
     "name": "stdout",
     "output_type": "stream",
     "text": [
      "Train Accuracy Score :  0.8172875\n",
      "Test Accuracy Score :  0.8262\n",
      "\n",
      "Train Recall Score :  0.9999676197260629\n",
      "Test Recall Score :  0.9999358768836165\n",
      "\n",
      "Train Precision Score :  0.8086515927152751\n",
      "Test Precision Score :  0.8177670564791022\n",
      "\n",
      "Cross Validation Score :  0.8190500000000001\n"
     ]
    }
   ],
   "source": [
    "from sklearn.linear_model import LogisticRegression\n",
    "LOG_Model = LogisticRegression(C = 0.004832930238571752,\n",
    "max_iter = 100,\n",
    "penalty = 'l1',\n",
    "solver= 'liblinear')\n",
    "LOG_Model.fit(X_train,y_train)\n",
    "\n",
    "ypwhite_train = LOG_Model.pwhiteict(X_train)\n",
    "ypwhite_test = LOG_Model.pwhiteict(X_test)\n",
    "\n",
    "from sklearn.metrics import accuracy_score\n",
    "print('Train Accuracy Score : ',accuracy_score(y_train,ypwhite_train))\n",
    "print('Test Accuracy Score : ',accuracy_score(y_test,ypwhite_test))\n",
    "print()\n",
    "\n",
    "from sklearn.metrics import recall_score\n",
    "print('Train Recall Score : ',recall_score(y_train,ypwhite_train))\n",
    "print('Test Recall Score : ',recall_score(y_test,ypwhite_test))\n",
    "print()\n",
    "\n",
    "from sklearn.metrics import precision_score\n",
    "print('Train Precision Score : ',precision_score(y_train,ypwhite_train))\n",
    "print('Test Precision Score : ',precision_score(y_test,ypwhite_test))\n",
    "print()\n",
    "\n",
    "from sklearn.model_selection import cross_val_score\n",
    "print('Cross Validation Score : ',(cross_val_score(LOG_Model,X,y,cv = 5)).mean())\n",
    "\n",
    "LRA_Train = accuracy_score(y_train,ypwhite_train)\n",
    "LRA_Test = accuracy_score(y_test,ypwhite_test)"
   ]
  },
  {
   "cell_type": "code",
   "execution_count": 51,
   "id": "de4ab262",
   "metadata": {},
   "outputs": [
    {
     "data": {
      "text/plain": [
       "array([[  930,  3475],\n",
       "       [    1, 15594]], dtype=int64)"
      ]
     },
     "execution_count": 51,
     "metadata": {},
     "output_type": "execute_result"
    }
   ],
   "source": [
    "from sklearn.metrics import confusion_matrix\n",
    "confusion_matrix(y_test,ypwhite_test)"
   ]
  },
  {
   "cell_type": "code",
   "execution_count": 52,
   "id": "28cac531",
   "metadata": {},
   "outputs": [
    {
     "data": {
      "image/png": "[encoded data removed]",
      "text/plain": [
       "<Figure size 640x480 with 1 Axes>"
      ]
     },
     "metadata": {},
     "output_type": "display_data"
    }
   ],
   "source": [
    "from sklearn.metrics import plot_roc_curve\n",
    "plot_roc_curve(LOG_Model,X_test,y_test)\n",
    "plt.show()"
   ]
  },
  {
   "cell_type": "markdown",
   "id": "2710e03c",
   "metadata": {},
   "source": [
    "## KNN Algorithm with Default Parameters"
   ]
  },
  {
   "cell_type": "code",
   "execution_count": 53,
   "id": "bfa3afc6",
   "metadata": {},
   "outputs": [
    {
     "name": "stdout",
     "output_type": "stream",
     "text": [
      "Train Accuracy Score :  0.80725\n",
      "Test Accuracy Score :  0.73855\n",
      "\n",
      "Train Recall Score :  0.9517533918336949\n",
      "Test Recall Score :  0.9048412952869509\n",
      "\n",
      "Train Precision Score :  0.8253446775054053\n",
      "Test Precision Score :  0.790266577060932\n",
      "\n",
      "Cross Validation Score :  0.7366\n"
     ]
    }
   ],
   "source": [
    "from sklearn.neighbors import KNeighborsClassifier\n",
    "KNN_Model = KNeighborsClassifier()\n",
    "KNN_Model.fit(X_train,y_train)\n",
    "\n",
    "ypwhite_train = KNN_Model.pwhiteict(X_train)\n",
    "ypwhite_test = KNN_Model.pwhiteict(X_test)\n",
    "\n",
    "from sklearn.metrics import accuracy_score\n",
    "print('Train Accuracy Score : ',accuracy_score(y_train,ypwhite_train))\n",
    "print('Test Accuracy Score : ',accuracy_score(y_test,ypwhite_test))\n",
    "print()\n",
    "\n",
    "from sklearn.metrics import recall_score\n",
    "print('Train Recall Score : ',recall_score(y_train,ypwhite_train))\n",
    "print('Test Recall Score : ',recall_score(y_test,ypwhite_test))\n",
    "print()\n",
    "\n",
    "from sklearn.metrics import precision_score\n",
    "print('Train Precision Score : ',precision_score(y_train,ypwhite_train))\n",
    "print('Test Precision Score : ',precision_score(y_test,ypwhite_test))\n",
    "print()\n",
    "\n",
    "from sklearn.model_selection import cross_val_score\n",
    "print('Cross Validation Score : ',(cross_val_score(KNN_Model,X,y,cv = 5)).mean())"
   ]
  },
  {
   "cell_type": "markdown",
   "id": "2894b293",
   "metadata": {},
   "source": [
    "## Hyperparameter Tuning ( KNN )"
   ]
  },
  {
   "cell_type": "code",
   "execution_count": 64,
   "id": "179ab683",
   "metadata": {},
   "outputs": [
    {
     "data": {
      "text/plain": [
       "{'n_neighbors': 29, 'p': 1}"
      ]
     },
     "execution_count": 64,
     "metadata": {},
     "output_type": "execute_result"
    }
   ],
   "source": [
    "from sklearn.model_selection import GridSearchCV\n",
    "estimator = KNeighborsClassifier()\n",
    "param_grid = {'n_neighbors':list(range(1,31,2)),'p':[1,2]}\n",
    "\n",
    "cv_classifier = GridSearchCV(estimator,param_grid,cv = 5,scoring = 'accuracy')\n",
    "cv_classifier.fit(X_train,y_train)\n",
    "cv_classifier.best_params_"
   ]
  },
  {
   "cell_type": "markdown",
   "id": "8a57eda2",
   "metadata": {},
   "source": [
    "## KNN Algorithm with Hyperparameter Tuning"
   ]
  },
  {
   "cell_type": "code",
   "execution_count": 53,
   "id": "d4705214",
   "metadata": {},
   "outputs": [
    {
     "name": "stdout",
     "output_type": "stream",
     "text": [
      "Train Accuracy Score :  0.77385\n",
      "Test Accuracy Score :  0.77815\n",
      "\n",
      "Train Recall Score :  0.9924230158987145\n",
      "Test Recall Score :  0.9905097787752485\n",
      "\n",
      "Train Precision Score :  0.7766909100124173\n",
      "Test Precision Score :  0.7826813944061614\n",
      "\n",
      "Cross Validation Score :  0.7716700000000001\n"
     ]
    }
   ],
   "source": [
    "from sklearn.neighbors import KNeighborsClassifier\n",
    "KNN_Model = KNeighborsClassifier(n_neighbors = 29, p = 1)\n",
    "KNN_Model.fit(X_train,y_train)\n",
    "\n",
    "ypwhite_train = KNN_Model.pwhiteict(X_train)\n",
    "ypwhite_test = KNN_Model.pwhiteict(X_test)\n",
    "\n",
    "from sklearn.metrics import accuracy_score\n",
    "print('Train Accuracy Score : ',accuracy_score(y_train,ypwhite_train))\n",
    "print('Test Accuracy Score : ',accuracy_score(y_test,ypwhite_test))\n",
    "print()\n",
    "\n",
    "from sklearn.metrics import recall_score\n",
    "print('Train Recall Score : ',recall_score(y_train,ypwhite_train))\n",
    "print('Test Recall Score : ',recall_score(y_test,ypwhite_test))\n",
    "print()\n",
    "\n",
    "from sklearn.metrics import precision_score\n",
    "print('Train Precision Score : ',precision_score(y_train,ypwhite_train))\n",
    "print('Test Precision Score : ',precision_score(y_test,ypwhite_test))\n",
    "print()\n",
    "\n",
    "from sklearn.model_selection import cross_val_score\n",
    "print('Cross Validation Score : ',(cross_val_score(KNN_Model,X,y,cv = 5)).mean())\n",
    "\n",
    "KNN_Train = accuracy_score(y_train,ypwhite_train)\n",
    "KNN_Test = accuracy_score(y_test,ypwhite_test)"
   ]
  },
  {
   "cell_type": "markdown",
   "id": "1658e2e7",
   "metadata": {},
   "source": [
    "## Decision Tree Algorithm with Default Parameters"
   ]
  },
  {
   "cell_type": "code",
   "execution_count": 54,
   "id": "c02f3a3a",
   "metadata": {},
   "outputs": [
    {
     "name": "stdout",
     "output_type": "stream",
     "text": [
      "Train Accuracy Score :  1.0\n",
      "Test Accuracy Score :  0.75485\n",
      "\n",
      "Train Recall Score :  1.0\n",
      "Test Recall Score :  0.8415517794164796\n",
      "\n",
      "Train Precision Score :  1.0\n",
      "Test Precision Score :  0.8436616096682952\n",
      "\n",
      "Cross Validation Score :  0.75369\n"
     ]
    }
   ],
   "source": [
    "from sklearn.tree import DecisionTreeClassifier\n",
    "DT_Model = DecisionTreeClassifier()\n",
    "DT_Model.fit(X_train,y_train)\n",
    "\n",
    "ypwhite_train = DT_Model.pwhiteict(X_train)\n",
    "ypwhite_test = DT_Model.pwhiteict(X_test)\n",
    "\n",
    "from sklearn.metrics import accuracy_score\n",
    "print('Train Accuracy Score : ',accuracy_score(y_train,ypwhite_train))\n",
    "print('Test Accuracy Score : ',accuracy_score(y_test,ypwhite_test))\n",
    "print()\n",
    "\n",
    "from sklearn.metrics import recall_score\n",
    "print('Train Recall Score : ',recall_score(y_train,ypwhite_train))\n",
    "print('Test Recall Score : ',recall_score(y_test,ypwhite_test))\n",
    "print()\n",
    "\n",
    "from sklearn.metrics import precision_score\n",
    "print('Train Precision Score : ',precision_score(y_train,ypwhite_train))\n",
    "print('Test Precision Score : ',precision_score(y_test,ypwhite_test))\n",
    "print()\n",
    "\n",
    "from sklearn.model_selection import cross_val_score\n",
    "print('Cross Validation Score : ',(cross_val_score(DT_Model,X,y,cv = 5)).mean())"
   ]
  },
  {
   "cell_type": "markdown",
   "id": "e6e38373",
   "metadata": {},
   "source": [
    "## Hyperparameter Tuning ( DTC )"
   ]
  },
  {
   "cell_type": "code",
   "execution_count": 63,
   "id": "e1c24f2f",
   "metadata": {},
   "outputs": [
    {
     "data": {
      "text/plain": [
       "DecisionTreeClassifier(max_depth=1, random_state=1)"
      ]
     },
     "execution_count": 63,
     "metadata": {},
     "output_type": "execute_result"
    }
   ],
   "source": [
    "from sklearn.model_selection import GridSearchCV as GSCV\n",
    "\n",
    "estimator = DecisionTreeClassifier()\n",
    "\n",
    "param_grid = {'criterion':['gini','entropy'],\n",
    "             'max_depth':[1,2,3,4,5],\n",
    "             'random_state' : list(range(1,100))}\n",
    "\n",
    "grid = GSCV(estimator,param_grid,scoring = 'accuracy',cv = 5)\n",
    "\n",
    "grid.fit(X_train,y_train)\n",
    "\n",
    "grid.best_estimator_"
   ]
  },
  {
   "cell_type": "markdown",
   "id": "8bfe224e",
   "metadata": {},
   "source": [
    "## Decision Tree Classifier with Hyperparameter Tuning"
   ]
  },
  {
   "cell_type": "code",
   "execution_count": 54,
   "id": "18efc969",
   "metadata": {},
   "outputs": [
    {
     "name": "stdout",
     "output_type": "stream",
     "text": [
      "Train Accuracy Score :  0.8173375\n",
      "Test Accuracy Score :  0.82625\n",
      "\n",
      "Train Recall Score :  1.0\n",
      "Test Recall Score :  1.0\n",
      "\n",
      "Train Precision Score :  0.8086777779232511\n",
      "Test Precision Score :  0.8177766124803356\n",
      "\n",
      "Cross Validation Score :  0.8191200000000001\n"
     ]
    }
   ],
   "source": [
    "from sklearn.tree import DecisionTreeClassifier\n",
    "DT_Model = DecisionTreeClassifier(max_depth = 1, random_state = 1)\n",
    "DT_Model.fit(X_train,y_train)\n",
    "\n",
    "ypwhite_train = DT_Model.pwhiteict(X_train)\n",
    "ypwhite_test = DT_Model.pwhiteict(X_test)\n",
    "\n",
    "from sklearn.metrics import accuracy_score\n",
    "print('Train Accuracy Score : ',accuracy_score(y_train,ypwhite_train))\n",
    "print('Test Accuracy Score : ',accuracy_score(y_test,ypwhite_test))\n",
    "print()\n",
    "\n",
    "from sklearn.metrics import recall_score\n",
    "print('Train Recall Score : ',recall_score(y_train,ypwhite_train))\n",
    "print('Test Recall Score : ',recall_score(y_test,ypwhite_test))\n",
    "print()\n",
    "\n",
    "from sklearn.metrics import precision_score\n",
    "print('Train Precision Score : ',precision_score(y_train,ypwhite_train))\n",
    "print('Test Precision Score : ',precision_score(y_test,ypwhite_test))\n",
    "print()\n",
    "\n",
    "from sklearn.model_selection import cross_val_score\n",
    "print('Cross Validation Score : ',(cross_val_score(DT_Model,X,y,cv = 5)).mean())\n",
    "\n",
    "DTC_Train = accuracy_score(y_train,ypwhite_train)\n",
    "DTC_Test = accuracy_score(y_test,ypwhite_test)"
   ]
  },
  {
   "cell_type": "markdown",
   "id": "71e0afca",
   "metadata": {},
   "source": [
    "## Random Forest Algorithm with Default Parameters"
   ]
  },
  {
   "cell_type": "code",
   "execution_count": 55,
   "id": "91886c6a",
   "metadata": {},
   "outputs": [
    {
     "name": "stdout",
     "output_type": "stream",
     "text": [
      "Train Accuracy Score :  0.999975\n",
      "Test Accuracy Score :  0.82645\n",
      "\n",
      "Train Recall Score :  1.0\n",
      "Test Recall Score :  0.9870471304905418\n",
      "\n",
      "Train Precision Score :  0.9999676207745111\n",
      "Test Precision Score :  0.8248312078019505\n",
      "\n",
      "Cross Validation Score :  0.8181800000000001\n"
     ]
    }
   ],
   "source": [
    "from sklearn.ensemble import RandomForestClassifier\n",
    "RF_Model = RandomForestClassifier()\n",
    "RF_Model.fit(X_train,y_train)\n",
    "\n",
    "ypwhite_train = RF_Model.pwhiteict(X_train)\n",
    "ypwhite_test = RF_Model.pwhiteict(X_test)\n",
    "\n",
    "from sklearn.metrics import accuracy_score\n",
    "print('Train Accuracy Score : ',accuracy_score(y_train,ypwhite_train))\n",
    "print('Test Accuracy Score : ',accuracy_score(y_test,ypwhite_test))\n",
    "print()\n",
    "\n",
    "from sklearn.metrics import recall_score\n",
    "print('Train Recall Score : ',recall_score(y_train,ypwhite_train))\n",
    "print('Test Recall Score : ',recall_score(y_test,ypwhite_test))\n",
    "print()\n",
    "\n",
    "from sklearn.metrics import precision_score\n",
    "print('Train Precision Score : ',precision_score(y_train,ypwhite_train))\n",
    "print('Test Precision Score : ',precision_score(y_test,ypwhite_test))\n",
    "print()\n",
    "\n",
    "from sklearn.model_selection import cross_val_score\n",
    "print('Cross Validation Score : ',(cross_val_score(RF_Model,X,y,cv = 5)).mean())"
   ]
  },
  {
   "cell_type": "markdown",
   "id": "c798134a",
   "metadata": {},
   "source": [
    "## Hyperparameter Tuning ( RFClassifier )"
   ]
  },
  {
   "cell_type": "code",
   "execution_count": 73,
   "id": "222702a5",
   "metadata": {},
   "outputs": [
    {
     "data": {
      "text/plain": [
       "RandomForestClassifier(n_estimators=300, random_state=0)"
      ]
     },
     "execution_count": 73,
     "metadata": {},
     "output_type": "execute_result"
    }
   ],
   "source": [
    "from sklearn.model_selection import GridSearchCV\n",
    "\n",
    "estimator = RandomForestClassifier(random_state = 0)\n",
    "\n",
    "param_grid = {'n_estimators':[100,200,300],\n",
    "             'max_features' : ['auto' , 'sqrt'],\n",
    "             'bootstrap':[True , False]}\n",
    "\n",
    "grid = GridSearchCV(estimator,param_grid,scoring = 'accuracy',cv = 5)\n",
    "\n",
    "grid.fit(X_train,y_train)\n",
    "\n",
    "grid.best_estimator_"
   ]
  },
  {
   "cell_type": "markdown",
   "id": "b944301b",
   "metadata": {},
   "source": [
    "## Random Forest Classifier with Hyperparameter Tuning"
   ]
  },
  {
   "cell_type": "code",
   "execution_count": 55,
   "id": "56e14bbe",
   "metadata": {},
   "outputs": [
    {
     "name": "stdout",
     "output_type": "stream",
     "text": [
      "Train Accuracy Score :  1.0\n",
      "Test Accuracy Score :  0.82665\n",
      "\n",
      "Train Recall Score :  1.0\n",
      "Test Recall Score :  0.9895479320294966\n",
      "\n",
      "Train Precision Score :  1.0\n",
      "Test Precision Score :  0.8236549957301452\n",
      "\n",
      "Cross Validation Score :  0.8185499999999999\n"
     ]
    }
   ],
   "source": [
    "from sklearn.ensemble import RandomForestClassifier\n",
    "RF_Model = RandomForestClassifier(n_estimators=300, random_state=0)\n",
    "RF_Model.fit(X_train,y_train)\n",
    "\n",
    "ypwhite_train = RF_Model.pwhiteict(X_train)\n",
    "ypwhite_test = RF_Model.pwhiteict(X_test)\n",
    "\n",
    "from sklearn.metrics import accuracy_score\n",
    "print('Train Accuracy Score : ',accuracy_score(y_train,ypwhite_train))\n",
    "print('Test Accuracy Score : ',accuracy_score(y_test,ypwhite_test))\n",
    "print()\n",
    "\n",
    "from sklearn.metrics import recall_score\n",
    "print('Train Recall Score : ',recall_score(y_train,ypwhite_train))\n",
    "print('Test Recall Score : ',recall_score(y_test,ypwhite_test))\n",
    "print()\n",
    "\n",
    "from sklearn.metrics import precision_score\n",
    "print('Train Precision Score : ',precision_score(y_train,ypwhite_train))\n",
    "print('Test Precision Score : ',precision_score(y_test,ypwhite_test))\n",
    "print()\n",
    "\n",
    "from sklearn.model_selection import cross_val_score\n",
    "print('Cross Validation Score : ',(cross_val_score(RF_Model,X,y,cv = 5)).mean())\n",
    "\n",
    "RFC_Train = accuracy_score(y_train,ypwhite_train)\n",
    "RFC_Test = accuracy_score(y_test,ypwhite_test)"
   ]
  },
  {
   "cell_type": "markdown",
   "id": "3919cbd9",
   "metadata": {},
   "source": [
    "## AdaBoost Classifier with Default Parameters"
   ]
  },
  {
   "cell_type": "code",
   "execution_count": 56,
   "id": "e21dbf03",
   "metadata": {},
   "outputs": [
    {
     "name": "stdout",
     "output_type": "stream",
     "text": [
      "Train Accuracy Score :  0.8173125\n",
      "Test Accuracy Score :  0.82615\n",
      "\n",
      "Train Recall Score :  0.9990609720558236\n",
      "Test Recall Score :  0.9991022763706316\n",
      "\n",
      "Train Precision Score :  0.8091260735592998\n",
      "Test Precision Score :  0.818157950010502\n",
      "\n",
      "Cross Validation Score :  0.81907\n"
     ]
    }
   ],
   "source": [
    "from sklearn.ensemble import AdaBoostClassifier\n",
    "AB_Model = AdaBoostClassifier()\n",
    "AB_Model.fit(X_train,y_train)\n",
    "\n",
    "ypwhite_train = AB_Model.pwhiteict(X_train)\n",
    "ypwhite_test = AB_Model.pwhiteict(X_test)\n",
    "\n",
    "from sklearn.metrics import accuracy_score\n",
    "print('Train Accuracy Score : ',accuracy_score(y_train,ypwhite_train))\n",
    "print('Test Accuracy Score : ',accuracy_score(y_test,ypwhite_test))\n",
    "print()\n",
    "\n",
    "from sklearn.metrics import recall_score\n",
    "print('Train Recall Score : ',recall_score(y_train,ypwhite_train))\n",
    "print('Test Recall Score : ',recall_score(y_test,ypwhite_test))\n",
    "print()\n",
    "\n",
    "from sklearn.metrics import precision_score\n",
    "print('Train Precision Score : ',precision_score(y_train,ypwhite_train))\n",
    "print('Test Precision Score : ',precision_score(y_test,ypwhite_test))\n",
    "print()\n",
    "\n",
    "from sklearn.model_selection import cross_val_score\n",
    "print('Cross Validation Score : ',(cross_val_score(AB_Model,X,y,cv = 5)).mean())"
   ]
  },
  {
   "cell_type": "markdown",
   "id": "cffda64b",
   "metadata": {},
   "source": [
    "## Hyperparameter Tuning ( ABClasifier )"
   ]
  },
  {
   "cell_type": "code",
   "execution_count": 70,
   "id": "2c204608",
   "metadata": {},
   "outputs": [
    {
     "data": {
      "text/plain": [
       "{'n_estimators': 27}"
      ]
     },
     "execution_count": 70,
     "metadata": {},
     "output_type": "execute_result"
    }
   ],
   "source": [
    "from sklearn.model_selection import GridSearchCV\n",
    "\n",
    "estimator = AdaBoostClassifier()\n",
    "\n",
    "param_grid = {'n_estimators': list(range(1,51))}\n",
    "\n",
    "grid = GridSearchCV(estimator,param_grid,cv = 5,scoring = 'accuracy')\n",
    "\n",
    "grid.fit(X_train,y_train)\n",
    "\n",
    "grid.best_params_"
   ]
  },
  {
   "cell_type": "markdown",
   "id": "ff439cee",
   "metadata": {},
   "source": [
    "## AdaBoost Classifier with Hyperparameter Tuning"
   ]
  },
  {
   "cell_type": "code",
   "execution_count": 56,
   "id": "3a3e965e",
   "metadata": {},
   "outputs": [
    {
     "name": "stdout",
     "output_type": "stream",
     "text": [
      "Train Accuracy Score :  0.8173375\n",
      "Test Accuracy Score :  0.8263\n",
      "\n",
      "Train Recall Score :  0.9999190493151572\n",
      "Test Recall Score :  0.9999358768836165\n",
      "\n",
      "Train Precision Score :  0.8087181971742461\n",
      "Test Precision Score :  0.8178528347406514\n",
      "\n",
      "Cross Validation Score :  0.81922\n"
     ]
    }
   ],
   "source": [
    "from sklearn.ensemble import AdaBoostClassifier\n",
    "AB_Model = AdaBoostClassifier(n_estimators = 27)\n",
    "AB_Model.fit(X_train,y_train)\n",
    "\n",
    "ypwhite_train = AB_Model.pwhiteict(X_train)\n",
    "ypwhite_test = AB_Model.pwhiteict(X_test)\n",
    "\n",
    "from sklearn.metrics import accuracy_score\n",
    "print('Train Accuracy Score : ',accuracy_score(y_train,ypwhite_train))\n",
    "print('Test Accuracy Score : ',accuracy_score(y_test,ypwhite_test))\n",
    "print()\n",
    "\n",
    "from sklearn.metrics import recall_score\n",
    "print('Train Recall Score : ',recall_score(y_train,ypwhite_train))\n",
    "print('Test Recall Score : ',recall_score(y_test,ypwhite_test))\n",
    "print()\n",
    "\n",
    "from sklearn.metrics import precision_score\n",
    "print('Train Precision Score : ',precision_score(y_train,ypwhite_train))\n",
    "print('Test Precision Score : ',precision_score(y_test,ypwhite_test))\n",
    "print()\n",
    "\n",
    "from sklearn.model_selection import cross_val_score\n",
    "print('Cross Validation Score : ',(cross_val_score(AB_Model,X,y,cv = 5)).mean())\n",
    "\n",
    "ABC_Train = accuracy_score(y_train,ypwhite_train)\n",
    "ABC_Test = accuracy_score(y_test,ypwhite_test)"
   ]
  },
  {
   "cell_type": "markdown",
   "id": "35084ce5",
   "metadata": {},
   "source": [
    "## Gradient Boosting Classifier with Default Parameters"
   ]
  },
  {
   "cell_type": "code",
   "execution_count": 58,
   "id": "368141da",
   "metadata": {},
   "outputs": [
    {
     "name": "stdout",
     "output_type": "stream",
     "text": [
      "Train Accuracy Score :  0.8178625\n",
      "Test Accuracy Score :  0.82665\n",
      "\n",
      "Train Recall Score :  0.9989476410970437\n",
      "Test Recall Score :  0.9989740301378647\n",
      "\n",
      "Train Precision Score :  0.8096500321492777\n",
      "Test Precision Score :  0.8186547556489753\n",
      "\n",
      "Cross Validation Score :  0.81936\n"
     ]
    }
   ],
   "source": [
    "from sklearn.ensemble import GradientBoostingClassifier\n",
    "GB_Model = GradientBoostingClassifier()\n",
    "GB_Model.fit(X_train,y_train)\n",
    "\n",
    "ypwhite_train = GB_Model.pwhiteict(X_train)\n",
    "ypwhite_test = GB_Model.pwhiteict(X_test)\n",
    "\n",
    "from sklearn.metrics import accuracy_score\n",
    "print('Train Accuracy Score : ',accuracy_score(y_train,ypwhite_train))\n",
    "print('Test Accuracy Score : ',accuracy_score(y_test,ypwhite_test))\n",
    "print()\n",
    "\n",
    "from sklearn.metrics import recall_score\n",
    "print('Train Recall Score : ',recall_score(y_train,ypwhite_train))\n",
    "print('Test Recall Score : ',recall_score(y_test,ypwhite_test))\n",
    "print()\n",
    "\n",
    "from sklearn.metrics import precision_score\n",
    "print('Train Precision Score : ',precision_score(y_train,ypwhite_train))\n",
    "print('Test Precision Score : ',precision_score(y_test,ypwhite_test))\n",
    "print()\n",
    "\n",
    "from sklearn.model_selection import cross_val_score\n",
    "print('Cross Validation Score : ',(cross_val_score(GB_Model,X,y,cv = 5)).mean())"
   ]
  },
  {
   "cell_type": "markdown",
   "id": "2b941724",
   "metadata": {},
   "source": [
    "## Hyperparameter Tuning ( GBClasifier )"
   ]
  },
  {
   "cell_type": "code",
   "execution_count": 71,
   "id": "4a8e08f8",
   "metadata": {},
   "outputs": [
    {
     "name": "stdout",
     "output_type": "stream",
     "text": [
      "{'learning_rate': 0.1, 'n_estimators': 100}\n"
     ]
    },
    {
     "data": {
      "text/plain": [
       "GradientBoostingClassifier()"
      ]
     },
     "execution_count": 71,
     "metadata": {},
     "output_type": "execute_result"
    }
   ],
   "source": [
    "from sklearn.model_selection import GridSearchCV\n",
    "\n",
    "estimator = GradientBoostingClassifier()\n",
    "\n",
    "param_grid = {'n_estimators':[1,5,10,20,40,100],\n",
    "             'learning_rate':[0.1,0.2,0.3,0.5,0.8,1]}\n",
    "\n",
    "grid = GridSearchCV(estimator,param_grid,cv = 5,scoring = 'accuracy')\n",
    "\n",
    "grid.fit(X_train,y_train)\n",
    "\n",
    "print(grid.best_params_)\n",
    "\n",
    "grid.best_estimator_"
   ]
  },
  {
   "cell_type": "markdown",
   "id": "e0517faa",
   "metadata": {},
   "source": [
    "## Gradient Boosting Classifier with Hyperparameter Tuning"
   ]
  },
  {
   "cell_type": "code",
   "execution_count": 64,
   "id": "b8fd53da",
   "metadata": {},
   "outputs": [
    {
     "name": "stdout",
     "output_type": "stream",
     "text": [
      "Train Accuracy Score :  0.8178625\n",
      "Test Accuracy Score :  0.82665\n",
      "\n",
      "Train Recall Score :  0.9989476410970437\n",
      "Test Recall Score :  0.9989740301378647\n",
      "\n",
      "Train Precision Score :  0.8096500321492777\n",
      "Test Precision Score :  0.8186547556489753\n",
      "\n",
      "Cross Validation Score :  0.81936\n"
     ]
    }
   ],
   "source": [
    "from sklearn.ensemble import GradientBoostingClassifier\n",
    "GB_Model = GradientBoostingClassifier(learning_rate = 0.1, n_estimators = 100)\n",
    "GB_Model.fit(X_train,y_train)\n",
    "\n",
    "ypwhite_train = GB_Model.pwhiteict(X_train)\n",
    "ypwhite_test = GB_Model.pwhiteict(X_test)\n",
    "\n",
    "from sklearn.metrics import accuracy_score\n",
    "print('Train Accuracy Score : ',accuracy_score(y_train,ypwhite_train))\n",
    "print('Test Accuracy Score : ',accuracy_score(y_test,ypwhite_test))\n",
    "print()\n",
    "\n",
    "from sklearn.metrics import recall_score\n",
    "print('Train Recall Score : ',recall_score(y_train,ypwhite_train))\n",
    "print('Test Recall Score : ',recall_score(y_test,ypwhite_test))\n",
    "print()\n",
    "\n",
    "from sklearn.metrics import precision_score\n",
    "print('Train Precision Score : ',precision_score(y_train,ypwhite_train))\n",
    "print('Test Precision Score : ',precision_score(y_test,ypwhite_test))\n",
    "print()\n",
    "\n",
    "from sklearn.model_selection import cross_val_score\n",
    "print('Cross Validation Score : ',(cross_val_score(GB_Model,X,y,cv = 5)).mean())\n",
    "\n",
    "GBC_Train = accuracy_score(y_train,ypwhite_train)\n",
    "GBC_Test = accuracy_score(y_test,ypwhite_test)"
   ]
  },
  {
   "cell_type": "markdown",
   "id": "88ab9fa3",
   "metadata": {},
   "source": [
    "## XGB Classifier with Default Parameters"
   ]
  },
  {
   "cell_type": "code",
   "execution_count": 58,
   "id": "c52b6d08",
   "metadata": {},
   "outputs": [
    {
     "name": "stdout",
     "output_type": "stream",
     "text": [
      "Train Accuracy Score :  0.8331625\n",
      "Test Accuracy Score :  0.82595\n",
      "\n",
      "Train Recall Score :  0.9946734449373442\n",
      "Test Recall Score :  0.9876883616543765\n",
      "\n",
      "Train Precision Score :  0.825156134577933\n",
      "Test Precision Score :  0.8240423710678365\n",
      "\n",
      "Cross Validation Score :  0.81868\n"
     ]
    }
   ],
   "source": [
    "from xgboost import XGBClassifier\n",
    "XGB_Model = XGBClassifier()\n",
    "XGB_Model.fit(X_train,y_train)\n",
    "\n",
    "ypwhite_train = XGB_Model.pwhiteict(X_train)\n",
    "ypwhite_test = XGB_Model.pwhiteict(X_test)\n",
    "\n",
    "from sklearn.metrics import accuracy_score\n",
    "print('Train Accuracy Score : ',accuracy_score(y_train,ypwhite_train))\n",
    "print('Test Accuracy Score : ',accuracy_score(y_test,ypwhite_test))\n",
    "print()\n",
    "\n",
    "from sklearn.metrics import recall_score\n",
    "print('Train Recall Score : ',recall_score(y_train,ypwhite_train))\n",
    "print('Test Recall Score : ',recall_score(y_test,ypwhite_test))\n",
    "print()\n",
    "\n",
    "from sklearn.metrics import precision_score\n",
    "print('Train Precision Score : ',precision_score(y_train,ypwhite_train))\n",
    "print('Test Precision Score : ',precision_score(y_test,ypwhite_test))\n",
    "print()\n",
    "\n",
    "from sklearn.model_selection import cross_val_score\n",
    "print('Cross Validation Score : ',(cross_val_score(XGB_Model,X,y,cv = 5)).mean())"
   ]
  },
  {
   "cell_type": "markdown",
   "id": "3305d6b0",
   "metadata": {},
   "source": [
    "## Hyperparameter Tuning ( XGBClassifier )"
   ]
  },
  {
   "cell_type": "code",
   "execution_count": 67,
   "id": "96fd74b9",
   "metadata": {},
   "outputs": [
    {
     "data": {
      "text/plain": [
       "{'gamma': 1, 'max_depth': 4, 'n_estimators': 40}"
      ]
     },
     "execution_count": 67,
     "metadata": {},
     "output_type": "execute_result"
    }
   ],
   "source": [
    "from sklearn.model_selection import GridSearchCV\n",
    "\n",
    "estimator = XGBClassifier()\n",
    "\n",
    "param_grid = {'n_estimators':[10,20,40,100],\n",
    "             'max_depth':[3,4,5],\n",
    "             'gamma':[0,0.15,0.3,0.5,1]}\n",
    "\n",
    "grid = GridSearchCV(XGB_Model,param_grid,cv = 5,scoring = 'accuracy')\n",
    "\n",
    "grid.fit(X_train,y_train)\n",
    "\n",
    "grid.best_params_"
   ]
  },
  {
   "cell_type": "markdown",
   "id": "a45698d9",
   "metadata": {},
   "source": [
    "## XGB Classifier with Hyperparameter Tuning"
   ]
  },
  {
   "cell_type": "code",
   "execution_count": 62,
   "id": "adef9763",
   "metadata": {},
   "outputs": [
    {
     "name": "stdout",
     "output_type": "stream",
     "text": [
      "Train Accuracy Score :  0.8185125\n",
      "Test Accuracy Score :  0.8261\n",
      "\n",
      "Train Recall Score :  0.9979924230158987\n",
      "Test Recall Score :  0.9978198140429625\n",
      "\n",
      "Train Precision Score :  0.8106842721306732\n",
      "Test Precision Score :  0.8187845303867404\n",
      "\n",
      "Cross Validation Score :  0.81928\n"
     ]
    }
   ],
   "source": [
    "from xgboost import XGBClassifier\n",
    "XGB_Model = XGBClassifier(gamma = 1, max_depth = 4, n_estimators = 40)\n",
    "XGB_Model.fit(X_train,y_train)\n",
    "\n",
    "ypwhite_train = XGB_Model.pwhiteict(X_train)\n",
    "ypwhite_test = XGB_Model.pwhiteict(X_test)\n",
    "\n",
    "from sklearn.metrics import accuracy_score\n",
    "print('Train Accuracy Score : ',accuracy_score(y_train,ypwhite_train))\n",
    "print('Test Accuracy Score : ',accuracy_score(y_test,ypwhite_test))\n",
    "print()\n",
    "\n",
    "from sklearn.metrics import recall_score\n",
    "print('Train Recall Score : ',recall_score(y_train,ypwhite_train))\n",
    "print('Test Recall Score : ',recall_score(y_test,ypwhite_test))\n",
    "print()\n",
    "\n",
    "from sklearn.metrics import precision_score\n",
    "print('Train Precision Score : ',precision_score(y_train,ypwhite_train))\n",
    "print('Test Precision Score : ',precision_score(y_test,ypwhite_test))\n",
    "print()\n",
    "\n",
    "from sklearn.model_selection import cross_val_score\n",
    "print('Cross Validation Score : ',(cross_val_score(XGB_Model,X,y,cv = 5)).mean())\n",
    "\n",
    "XGB_Train = accuracy_score(y_train,ypwhite_train)\n",
    "XGB_Test = accuracy_score(y_test,ypwhite_test)"
   ]
  },
  {
   "cell_type": "markdown",
   "id": "659e908e",
   "metadata": {},
   "source": [
    "## Support Vector Machine with Default Parameters"
   ]
  },
  {
   "cell_type": "code",
   "execution_count": 59,
   "id": "f9c39a18",
   "metadata": {},
   "outputs": [
    {
     "name": "stdout",
     "output_type": "stream",
     "text": [
      "Train Accuracy Score :  0.7721\n",
      "Test Accuracy Score :  0.77975\n",
      "\n",
      "Train Recall Score :  1.0\n",
      "Test Recall Score :  1.0\n",
      "\n",
      "Train Precision Score :  0.7720943023575589\n",
      "Test Precision Score :  0.77975\n",
      "\n",
      "Cross Validation Score :  0.77361\n"
     ]
    }
   ],
   "source": [
    "from sklearn.svm import SVC\n",
    "SVM_Model = SVC()\n",
    "SVM_Model.fit(X_train,y_train)\n",
    "\n",
    "ypwhite_train = SVM_Model.pwhiteict(X_train)\n",
    "ypwhite_test = SVM_Model.pwhiteict(X_test)\n",
    "\n",
    "from sklearn.metrics import accuracy_score\n",
    "print('Train Accuracy Score : ',accuracy_score(y_train,ypwhite_train))\n",
    "print('Test Accuracy Score : ',accuracy_score(y_test,ypwhite_test))\n",
    "print()\n",
    "\n",
    "from sklearn.metrics import recall_score\n",
    "print('Train Recall Score : ',recall_score(y_train,ypwhite_train))\n",
    "print('Test Recall Score : ',recall_score(y_test,ypwhite_test))\n",
    "print()\n",
    "\n",
    "from sklearn.metrics import precision_score\n",
    "print('Train Precision Score : ',precision_score(y_train,ypwhite_train))\n",
    "print('Test Precision Score : ',precision_score(y_test,ypwhite_test))\n",
    "print()\n",
    "\n",
    "from sklearn.model_selection import cross_val_score\n",
    "print('Cross Validation Score : ',(cross_val_score(SVM_Model,X,y,cv = 5)).mean())"
   ]
  },
  {
   "cell_type": "markdown",
   "id": "4a113071",
   "metadata": {},
   "source": [
    "## Hyperparameter Tuning ( SVM )"
   ]
  },
  {
   "cell_type": "raw",
   "id": "374a36e1",
   "metadata": {},
   "source": [
    "from sklearn.model_selection import GridSearchCV\n",
    "\n",
    "\n",
    "param_grid = {'C':[0.01,0.1,1,10,100],\n",
    "             'kernel': ['linear','rbf','sigmoid','poly']}\n",
    "\n",
    "grid = GridSearchCV(SVC(),param_grid,cv=5)\n",
    "\n",
    "grid.fit(X,y)\n",
    "grid.best_params_"
   ]
  },
  {
   "cell_type": "code",
   "execution_count": 3,
   "id": "507ba98a",
   "metadata": {},
   "outputs": [
    {
     "name": "stdout",
     "output_type": "stream",
     "text": [
      "Hi Krishna , Good morning , Everything is fine Now and Completed the GridSearch CV process for all Algorithms sucessfully\n"
     ]
    }
   ],
   "source": [
    "a = 'Hi Krishna , Good morning , Everything is fine Now and Completed the GridSearch CV process for all Algorithms sucessfully'\n",
    "print(a)"
   ]
  },
  {
   "cell_type": "code",
   "execution_count": 73,
   "id": "bc3716d1",
   "metadata": {},
   "outputs": [],
   "source": [
    "Accuracies = pd.DataFrame({'Train Score':[LRA_Train,KNN_Train,DTC_Train,RFC_Train,ABC_Train,XGB_Train,GBC_Train],\n",
    "                         'Test Score':[LRA_Test,KNN_Test,DTC_Test,RFC_Test,ABC_Test,XGB_Test,GBC_Test]},\n",
    "                           index = ['LRA','KNN','DTC','RFC','ABC','XGB','GBC'])"
   ]
  },
  {
   "cell_type": "code",
   "execution_count": 74,
   "id": "76b4c101",
   "metadata": {},
   "outputs": [
    {
     "data": {
      "text/html": [
       "<div>\n",
       "<style scoped>\n",
       "    .dataframe tbody tr th:only-of-type {\n",
       "        vertical-align: middle;\n",
       "    }\n",
       "\n",
       "    .dataframe tbody tr th {\n",
       "        vertical-align: top;\n",
       "    }\n",
       "\n",
       "    .dataframe thead th {\n",
       "        text-align: right;\n",
       "    }\n",
       "</style>\n",
       "<table border=\"1\" class=\"dataframe\">\n",
       "  <thead>\n",
       "    <tr style=\"text-align: right;\">\n",
       "      <th></th>\n",
       "      <th>Train Score</th>\n",
       "      <th>Test Score</th>\n",
       "    </tr>\n",
       "  </thead>\n",
       "  <tbody>\n",
       "    <tr>\n",
       "      <th>LRA</th>\n",
       "      <td>0.817287</td>\n",
       "      <td>0.82620</td>\n",
       "    </tr>\n",
       "    <tr>\n",
       "      <th>KNN</th>\n",
       "      <td>0.773850</td>\n",
       "      <td>0.77815</td>\n",
       "    </tr>\n",
       "    <tr>\n",
       "      <th>DTC</th>\n",
       "      <td>0.817338</td>\n",
       "      <td>0.82625</td>\n",
       "    </tr>\n",
       "    <tr>\n",
       "      <th>RFC</th>\n",
       "      <td>1.000000</td>\n",
       "      <td>0.82665</td>\n",
       "    </tr>\n",
       "    <tr>\n",
       "      <th>ABC</th>\n",
       "      <td>0.817338</td>\n",
       "      <td>0.82630</td>\n",
       "    </tr>\n",
       "    <tr>\n",
       "      <th>XGB</th>\n",
       "      <td>0.818512</td>\n",
       "      <td>0.82610</td>\n",
       "    </tr>\n",
       "    <tr>\n",
       "      <th>GBC</th>\n",
       "      <td>0.817863</td>\n",
       "      <td>0.82665</td>\n",
       "    </tr>\n",
       "  </tbody>\n",
       "</table>\n",
       "</div>"
      ],
      "text/plain": [
       "     Train Score  Test Score\n",
       "LRA     0.817287     0.82620\n",
       "KNN     0.773850     0.77815\n",
       "DTC     0.817338     0.82625\n",
       "RFC     1.000000     0.82665\n",
       "ABC     0.817338     0.82630\n",
       "XGB     0.818512     0.82610\n",
       "GBC     0.817863     0.82665"
      ]
     },
     "execution_count": 74,
     "metadata": {},
     "output_type": "execute_result"
    }
   ],
   "source": [
    "Accuracies"
   ]
  },
  {
   "cell_type": "markdown",
   "id": "511ca4fd",
   "metadata": {},
   "source": [
    "# Gradient Boosting Classifier is the Best Algorithm among all Algorithms"
   ]
  },
  {
   "cell_type": "code",
   "execution_count": 86,
   "id": "87eca682",
   "metadata": {},
   "outputs": [
    {
     "data": {
      "text/plain": [
       "['Model.pkl']"
      ]
     },
     "execution_count": 86,
     "metadata": {},
     "output_type": "execute_result"
    }
   ],
   "source": [
    "import joblib\n",
    "joblib.dump(GB_Model , 'Model.pkl')"
   ]
  },
  {
   "cell_type": "code",
   "execution_count": 87,
   "id": "97d79a3a",
   "metadata": {},
   "outputs": [],
   "source": [
    "model = joblib.load('Model.pkl')"
   ]
  },
  {
   "cell_type": "code",
   "execution_count": null,
   "id": "c003bc28",
   "metadata": {},
   "outputs": [],
   "source": []
  }
 ],
 "metadata": {
  "kernelspec": {
   "display_name": "Python 3 (ipykernel)",
   "language": "python",
   "name": "python3"
  },
  "language_info": {
   "codemirror_mode": {
    "name": "ipython",
    "version": 3
   },
   "file_extension": ".py",
   "mimetype": "text/x-python",
   "name": "python",
   "nbconvert_exporter": "python",
   "pygments_lexer": "ipython3",
   "version": "3.9.13"
  }
 },
 "nbformat": 4,
 "nbformat_minor": 5
}
